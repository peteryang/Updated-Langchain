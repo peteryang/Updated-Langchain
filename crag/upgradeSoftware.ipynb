{
 "cells": [
  {
   "cell_type": "code",
   "execution_count": 147,
   "metadata": {},
   "outputs": [
    {
     "name": "stderr",
     "output_type": "stream",
     "text": [
      "Python-dotenv could not parse statement starting at line 1\n",
      "Python-dotenv could not parse statement starting at line 7\n"
     ]
    }
   ],
   "source": [
    "import os\n",
    "from dotenv import load_dotenv\n",
    "\n",
    "load_dotenv()\n",
    "\n",
    "os.environ[\"OPENAI_API_KEY\"]=os.getenv(\"OPENAI_API_KEY\")\n",
    "## Langmith tracking\n",
    "os.environ[\"LANGCHAIN_TRACING_V2\"]=\"true\"\n",
    "os.environ[\"LANGCHAIN_API_KEY\"]=os.getenv(\"LANGCHAIN_API_KEY\")"
   ]
  },
  {
   "cell_type": "code",
   "execution_count": 148,
   "metadata": {},
   "outputs": [],
   "source": [
    "import warnings\n",
    "\n",
    "warnings.filterwarnings(\"ignore\")\n",
    "from pprint import pprint\n",
    "\n",
    "from langchain_community.document_loaders.generic import GenericLoader\n",
    "from langchain_community.document_loaders.parsers import LanguageParser\n",
    "from langchain_text_splitters import Language\n"
   ]
  },
  {
   "cell_type": "code",
   "execution_count": 149,
   "metadata": {},
   "outputs": [],
   "source": [
    "loader = GenericLoader.from_filesystem(\n",
    "    \"./DotNetFramework/\",\n",
    "    glob=\"*\",\n",
    "    suffixes=[\".cs\"],\n",
    "    parser=LanguageParser(language=Language.CSHARP, parser_threshold=10000),    \n",
    ")\n",
    "docs = loader.load()"
   ]
  },
  {
   "cell_type": "code",
   "execution_count": 150,
   "metadata": {},
   "outputs": [
    {
     "data": {
      "text/plain": [
       "[Document(page_content='\\ufeffusing System;\\nusing System.Collections.Generic;\\nusing System.Linq;\\nusing System.Data;\\nusing System.Data.SqlClient;\\nusing System.Text;\\nusing System.Threading.Tasks;\\nusing StockManagementSystem.Models;\\n\\nnamespace StockManagementSystem.Repository\\n{\\n    public class CategoryRepository\\n    {\\n        string connectionString;\\n        SqlConnection sqlConnection;\\n        private string commandString;\\n        private SqlCommand sqlCommand;\\n        SqlDataAdapter sqlDataAdapter;\\n        DataTable dataTable;\\n\\n        public CategoryRepository()\\n        {\\n            connectionString = @\"Server=LAPTOP-BASHAROV\\\\SQLEXPRESS; Database=StockManagementSystemDB; Integrated Security=True\";\\n            sqlConnection = new SqlConnection(connectionString);\\n        }\\n\\n        public DataTable LoadCategoryDataGridView()\\n        {\\n            commandString = @\"SELECT * FROM Categorys\";\\n            sqlCommand = new SqlCommand(commandString, sqlConnection);\\n            \\n            sqlConnection.Open();\\n\\n            sqlDataAdapter = new SqlDataAdapter(sqlCommand);\\n            dataTable = new DataTable();\\n            sqlDataAdapter.Fill(dataTable);\\n\\n            sqlConnection.Close();\\n\\n            return dataTable;\\n        }\\n\\n        public bool ValidationCheck(Category category)\\n        {\\n            commandString = @\"SELECT * FROM Categorys WHERE Name = \\'\" + category.Name + \"\\'\";\\n            sqlCommand = new SqlCommand(commandString, sqlConnection);\\n\\n            sqlConnection.Open();\\n\\n            sqlDataAdapter = new SqlDataAdapter(sqlCommand);\\n            dataTable = new DataTable();\\n            sqlDataAdapter.Fill(dataTable);\\n\\n            bool isExist = false;\\n            if (dataTable.Rows.Count > 0)\\n            {\\n                isExist = true;\\n            }\\n\\n            sqlConnection.Close();\\n\\n            return isExist;\\n        }\\n\\n        public int InsertCategory(Category category)\\n        {\\n            commandString = @\"INSERT INTO Categorys (Name) VALUES (\\'\" + category.Name + \"\\')\";\\n            sqlCommand = new SqlCommand(commandString, sqlConnection);\\n\\n            sqlConnection.Open();\\n\\n            int isExecuted = 0;\\n\\n            isExecuted = sqlCommand.ExecuteNonQuery();\\n\\n            sqlConnection.Close();\\n\\n            return isExecuted;\\n        }\\n\\n        public int UpdateCategory(Category category)\\n        {\\n            commandString = \"UPDATE Categorys SET Name = \\'\" + category.Name + \"\\' WHERE ID = \" + category.ID + \"\";\\n            sqlCommand = new SqlCommand(commandString, sqlConnection);\\n\\n            sqlConnection.Open();\\n\\n            int isExecuted = 0;\\n\\n            isExecuted = sqlCommand.ExecuteNonQuery();\\n\\n            sqlConnection.Close();\\n\\n            return isExecuted;\\n        }\\n    }\\n}\\n', metadata={'source': 'DotNetFramework/CategoryRepository.cs', 'language': <Language.CSHARP: 'csharp'>}),\n",
       " Document(page_content='\\ufeffusing System;\\nusing System.Collections.Generic;\\nusing System.Data;\\nusing System.Data.SqlClient;\\nusing System.Linq;\\nusing System.Text;\\nusing System.Threading.Tasks;\\n\\nnamespace StockManagementSystem.Repository\\n{\\n    public class UserRepository\\n    {\\n        string connectionString;\\n        SqlConnection sqlConnection;\\n        private string commandString;\\n        private SqlCommand sqlCommand;\\n        SqlDataAdapter sqlDataAdapter;\\n        DataTable dataTable;\\n\\n        public UserRepository()\\n        {\\n            connectionString = @\"Server=LAPTOP-BASHAROV\\\\SQLEXPRESS; Database=StockManagementSystemDB; Integrated Security=True\";\\n            sqlConnection = new SqlConnection(connectionString);\\n        }\\n\\n        public int LogIn(User user)\\n        {\\n            int count = 0;\\n\\n            commandString = \"SELECT * FROM [dbo].[User] WHERE UserName = \\'\" + user.Username + \"\\' and Password = \\'\" + user.Password + \"\\'\";\\n            sqlCommand = new SqlCommand(commandString, sqlConnection);\\n\\n            sqlConnection.Open();\\n\\n            sqlCommand.ExecuteNonQuery();\\n\\n            dataTable = new DataTable();\\n            sqlDataAdapter = new SqlDataAdapter(sqlCommand);\\n            sqlDataAdapter.Fill(dataTable);\\n\\n            count = Convert.ToInt32(dataTable.Rows.Count.ToString());\\n\\n            sqlConnection.Close();\\n            \\n            return count;\\n        }\\n    }\\n}\\n', metadata={'source': 'DotNetFramework/UserRepository.cs', 'language': <Language.CSHARP: 'csharp'>}),\n",
       " Document(page_content='\\ufeffusing StockManagementSystem.Models;\\nusing System;\\nusing System.Collections.Generic;\\nusing System.Data;\\nusing System.Data.SqlClient;\\nusing System.Linq;\\nusing System.Text;\\nusing System.Threading.Tasks;\\n\\nnamespace StockManagementSystem.Repository\\n{\\n    public class StockRepository\\n    {\\n        string connectionString;\\n        SqlConnection sqlConnection;\\n        private string commandString;\\n        private SqlCommand sqlCommand;\\n        SqlDataAdapter sqlDataAdapter;\\n        DataTable dataTable;\\n        SqlDataReader reader;\\n\\n        string reorderLevel;\\n        string availableQuantity;\\n        int itemId;\\n\\n        public StockRepository()\\n        {\\n            connectionString = @\"Server=LAPTOP-BASHAROV\\\\SQLEXPRESS; Database=StockManagementSystemDB; Integrated Security=True\";\\n            sqlConnection = new SqlConnection(connectionString);\\n        }\\n\\n        public DataTable LoadCompany()\\n        {\\n            commandString = @\"SELECT * FROM Companys\";\\n            sqlCommand = new SqlCommand(commandString, sqlConnection);\\n\\n            if (sqlConnection.State == ConnectionState.Closed)\\n            {\\n                sqlConnection.Open();\\n            }\\n\\n            sqlDataAdapter = new SqlDataAdapter(sqlCommand);\\n            dataTable = new DataTable();\\n            sqlDataAdapter.Fill(dataTable);\\n\\n            sqlConnection.Close();\\n\\n            return dataTable;\\n        }\\n\\n        public DataTable LoadCategory()\\n        {\\n            commandString = @\"SELECT * FROM Categorys\";\\n            sqlCommand = new SqlCommand(commandString, sqlConnection);\\n\\n            if (sqlConnection.State == ConnectionState.Closed)\\n            {\\n                sqlConnection.Open();\\n            }\\n\\n            sqlDataAdapter = new SqlDataAdapter(sqlCommand);\\n            dataTable = new DataTable();\\n            sqlDataAdapter.Fill(dataTable);\\n\\n            sqlConnection.Close();\\n\\n            return dataTable;\\n        }\\n\\n        public DataTable LoadItem(int companyId, int categoryId)\\n        {\\n            commandString = @\"SELECT Items.ItemName FROM ((Items LEFT JOIN Companys ON Items.CompanyID = Companys.ID) LEFT JOIN Categorys ON Items.CategoryID = Categorys.ID) WHERE Companys.ID = \\'\" + companyId + \"\\' AND Categorys.ID = \\'\" + categoryId + \"\\'\";\\n            sqlCommand = new SqlCommand(commandString, sqlConnection);\\n\\n            if (sqlConnection.State == ConnectionState.Closed)\\n            {\\n                sqlConnection.Open();\\n            }\\n\\n            sqlDataAdapter = new SqlDataAdapter(sqlCommand);\\n            dataTable = new DataTable();\\n            sqlDataAdapter.Fill(dataTable);\\n\\n            sqlConnection.Close();\\n\\n            return dataTable;\\n        }\\n\\n        public string LoadReorder(Stock stock)\\n        {\\n            commandString = @\"SELECT ReorderLevel FROM Items WHERE ItemName = \\'\" + stock.ItemName + \"\\'\";\\n            sqlCommand = new SqlCommand(commandString, sqlConnection);\\n\\n            if (sqlConnection.State == ConnectionState.Closed)\\n            {\\n                sqlConnection.Open();\\n            }\\n\\n            reader = sqlCommand.ExecuteReader();\\n            while (reader.Read())\\n            {\\n                reorderLevel = (reader[\"ReorderLevel\"]).ToString();\\n            }\\n\\n            sqlConnection.Close();\\n\\n            return reorderLevel;\\n        }\\n\\n        public string LoadQuantity(Stock stock)\\n        {\\n            commandString = @\"SELECT AvailableQuantity FROM Items WHERE ItemName = \\'\" + stock.ItemName + \"\\'\";\\n            sqlCommand = new SqlCommand(commandString, sqlConnection);\\n\\n            if (sqlConnection.State == ConnectionState.Closed)\\n            {\\n                sqlConnection.Open();\\n            }\\n\\n            reader = sqlCommand.ExecuteReader();\\n            while (reader.Read())\\n            {\\n                availableQuantity = (reader[\"AvailableQuantity\"]).ToString();\\n            }\\n\\n            sqlConnection.Close();\\n\\n            return availableQuantity;\\n        }\\n\\n        public int LoadItemID(Stock stock)\\n        {\\n            commandString = @\"SELECT ID FROM Items WHERE ItemName = \\'\" + stock.ItemName + \"\\'\";\\n            sqlCommand = new SqlCommand(commandString, sqlConnection);\\n\\n            if (sqlConnection.State == ConnectionState.Closed)\\n            {\\n                sqlConnection.Open();\\n            }\\n\\n            reader = sqlCommand.ExecuteReader();\\n            while (reader.Read())\\n            {\\n                itemId = Convert.ToInt32(reader[\"ID\"]);\\n            }\\n\\n            sqlConnection.Close();\\n\\n            return itemId;\\n        }\\n\\n        public int StockIn(Stock stock)\\n        {\\n            int isExecuted = 0;\\n\\n            commandString = \"INSERT INTO Stocks (ItemID, Quantity, Date, Status) VALUES (\" + stock.ItemID + \", \" + stock.Quantity + \", \\'\" + stock.Date + \"\\', \\'\" + stock.Status + \"\\')\";\\n            sqlCommand = new SqlCommand(commandString, sqlConnection);\\n\\n            if (sqlConnection.State == ConnectionState.Closed)\\n            {\\n                sqlConnection.Open();\\n            }\\n\\n            isExecuted = sqlCommand.ExecuteNonQuery();\\n\\n            sqlConnection.Close();\\n\\n            return isExecuted;\\n        }\\n\\n        public int UpdateStock(Stock stock)\\n        {\\n            int isExecuted = 0;\\n\\n            string query = \"UPDATE Stocks SET Quantity = \\'\" + stock.Quantity + \"\\' WHERE ID = \\'\" + stock.ID + \"\\'\";\\n            sqlCommand = new SqlCommand(query, sqlConnection);\\n\\n            if (sqlConnection.State == ConnectionState.Closed)\\n            {\\n                sqlConnection.Open();\\n            }\\n\\n            isExecuted = sqlCommand.ExecuteNonQuery();\\n\\n            sqlConnection.Close();\\n\\n            return isExecuted;\\n        }\\n\\n        public int InsertAvailableQuantity(Item item)\\n        {\\n            int isExecuted = 0;\\n\\n            string query = \"UPDATE Items SET AvailableQuantity = \\'\" + item.AvailableQuantity + \"\\' WHERE ID = \\'\" + item.ID + \"\\'\";\\n            sqlCommand = new SqlCommand(query, sqlConnection);\\n\\n            if (sqlConnection.State == ConnectionState.Closed)\\n            {\\n                sqlConnection.Open();\\n            }\\n\\n            isExecuted = sqlCommand.ExecuteNonQuery();\\n\\n            sqlConnection.Close();\\n\\n            return isExecuted;\\n        }\\n\\n        public DataTable DisplayStock(Stock stock)\\n        {\\n            commandString = @\"SELECT * FROM StocksView WHERE ItemName = \\'\" + stock.ItemName + \"\\' ORDER BY Date DESC\";\\n            sqlCommand = new SqlCommand(commandString, sqlConnection);\\n\\n            if (sqlConnection.State == ConnectionState.Closed)\\n            {\\n                sqlConnection.Open();\\n            }\\n\\n            sqlDataAdapter = new SqlDataAdapter(sqlCommand);\\n            dataTable = new DataTable();\\n            sqlDataAdapter.Fill(dataTable);\\n\\n            sqlConnection.Close();\\n\\n            return dataTable;\\n        }\\n\\n        public DataTable GetQuantity(Item item)\\n        {\\n            commandString = @\"SELECT * FROM Items WHERE ID = \" + item.ID + \"\";\\n            sqlCommand = new SqlCommand(commandString, sqlConnection);\\n\\n            sqlConnection.Open();\\n\\n\\t        sqlDataAdapter = new SqlDataAdapter(sqlCommand);\\n            dataTable = new DataTable();\\n            sqlDataAdapter.Fill(dataTable);\\n\\n            sqlConnection.Close();\\n\\n\\t        return dataTable;\\n\\t    }\\n\\n        public int StockOut(Stock stock)\\n        {\\n            int isExecuted = 0;\\n\\n            commandString = \"INSERT INTO Stocks (ItemID, Quantity, Date, Status) VALUES (\" + stock.ItemID + \", \" + stock.Quantity + \", \\'\" + stock.Date + \"\\', \\'\" + stock.Status + \"\\')\";\\n            sqlCommand = new SqlCommand(commandString, sqlConnection);\\n\\n            sqlConnection.Open();\\n\\n            isExecuted = sqlCommand.ExecuteNonQuery();\\n\\n            sqlConnection.Close();\\n\\n            return isExecuted;\\n        }\\n\\n        public DataTable ViewReport(string fromDate, string toDate, string status)\\n        {\\n            commandString = @\"SELECT i.ItemName AS ItemName, com.Name AS Company, SUM(s.Quantity) AS Quantity \\n                              FROM Stocks As s, Companys AS com, Items AS i \\n                              WHERE s.ItemID = i.ID AND i.CompanyID = com.ID AND s.Status = \\'\" + status + \"\\' AND s.Date BETWEEN \\'\" + fromDate + \"\\' AND \\'\" + toDate + \"\\' GROUP BY i.ItemName, com.Name\";\\n\\n            sqlCommand = new SqlCommand(commandString, sqlConnection);\\n\\n            sqlConnection.Open();\\n\\n            sqlDataAdapter = new SqlDataAdapter(sqlCommand);\\n            dataTable = new DataTable();\\n            sqlDataAdapter.Fill(dataTable);\\n\\n            sqlConnection.Close();\\n\\n            return dataTable;\\n        }\\n    }\\n}\\n', metadata={'source': 'DotNetFramework/StockRepository.cs', 'language': <Language.CSHARP: 'csharp'>}),\n",
       " Document(page_content='\\ufeffusing System;\\nusing System.Collections.Generic;\\nusing System.Linq;\\nusing System.Data;\\nusing System.Data.SqlClient;\\nusing System.Text;\\nusing System.Threading.Tasks;\\nusing StockManagementSystem.Models;\\n\\nnamespace StockManagementSystem.Repository\\n{\\n    public class CompanyRepository\\n    {\\n        string connectionString;\\n        SqlConnection sqlConnection;\\n        private string commandString;\\n        private SqlCommand sqlCommand;\\n        SqlDataAdapter sqlDataAdapter;\\n        DataTable dataTable;\\n\\n        public CompanyRepository()\\n        {\\n            connectionString = @\"Server=LAPTOP-BASHAROV\\\\SQLEXPRESS; Database=StockManagementSystemDB; Integrated Security=True\";\\n            sqlConnection = new SqlConnection(connectionString);\\n        }\\n\\n        public DataTable LoadCompanyDataGridView()\\n        {\\n            commandString = @\"SELECT * FROM Companys\";\\n            sqlCommand = new SqlCommand(commandString, sqlConnection);\\n\\n            sqlConnection.Open();\\n\\n            sqlDataAdapter = new SqlDataAdapter(sqlCommand);\\n            dataTable = new DataTable();\\n            sqlDataAdapter.Fill(dataTable);\\n\\n            sqlConnection.Close();\\n\\n            return dataTable;\\n        }\\n\\n        public int InsertCompany(Company company)\\n        {\\n            commandString = @\"INSERT INTO Companys (Name) VALUES (\\'\" + company.Name + \"\\')\";\\n            sqlCommand = new SqlCommand(commandString, sqlConnection);\\n\\n            sqlConnection.Open();\\n\\n            int isExecuted = 0;\\n\\n            isExecuted = sqlCommand.ExecuteNonQuery();\\n\\n            sqlConnection.Close();\\n\\n            return isExecuted;\\n        }\\n\\n        public int UpdateCompany(Company company)\\n        {\\n            commandString = \"UPDATE Companys SET Name = \\'\" + company.Name + \"\\' WHERE ID = \" + company.ID + \"\";\\n            sqlCommand = new SqlCommand(commandString, sqlConnection);\\n            \\n            sqlConnection.Open();\\n\\n            int isExecuted = 0;\\n\\n            isExecuted = sqlCommand.ExecuteNonQuery();\\n\\n            sqlConnection.Close();\\n\\n            return isExecuted;\\n        }\\n\\n        public bool ValidationCheck(Company company)\\n        {\\n            commandString = @\"SELECT * FROM Companys WHERE Name = \\'\" + company.Name + \"\\'\";\\n            sqlCommand = new SqlCommand(commandString, sqlConnection);\\n\\n            sqlConnection.Open();\\n\\n            sqlDataAdapter = new SqlDataAdapter(sqlCommand);\\n            dataTable = new DataTable();\\n            sqlDataAdapter.Fill(dataTable);\\n\\n            bool isExist = false;\\n            if (dataTable.Rows.Count > 0)\\n            {\\n                isExist = true;\\n            }\\n\\n            sqlConnection.Close();\\n\\n            return isExist;\\n        }\\n    }\\n}\\n', metadata={'source': 'DotNetFramework/CompanyRepository.cs', 'language': <Language.CSHARP: 'csharp'>}),\n",
       " Document(page_content='using System;\\nusing System.Web.UI;\\nusing System.Web.UI.WebControls;\\n\\nnamespace WebFormsApp\\n{\\n    public class CustomWebControl : WebControl\\n    {\\n        protected override void RenderContents(HtmlTextWriter writer)\\n        {\\n            writer.Write(\"Hello, this is a testing message.\");\\n        }\\n    }\\n\\n    public partial class WebForm1 : Page\\n    {\\n        protected void Page_Load(object sender, EventArgs e)\\n        {\\n            CustomWebControl myControl = new CustomWebControl();\\n            myControl.ID = \"MyCustomControl\";\\n            this.form1.Controls.Add(myControl);\\n        }\\n    }\\n}\\n', metadata={'source': 'DotNetFramework/CustomWebControl.cs', 'language': <Language.CSHARP: 'csharp'>}),\n",
       " Document(page_content='\\ufeffusing StockManagementSystem.Models;\\nusing System;\\nusing System.Collections.Generic;\\nusing System.Data;\\nusing System.Data.SqlClient;\\nusing System.Linq;\\nusing System.Text;\\nusing System.Threading.Tasks;\\n\\nnamespace StockManagementSystem.Repository\\n{\\n    public class ItemRepository\\n    {\\n        string connectionString;\\n        SqlConnection sqlConnection;\\n        private string commandString;\\n        private SqlCommand sqlCommand;\\n        SqlDataAdapter sqlDataAdapter;\\n        DataTable dataTable;\\n\\n        public ItemRepository()\\n        {\\n            connectionString = @\"SERVER = LAPTOP-BASHAROV\\\\SQLEXPRESS; Database=StockManagementSystemDB; Integrated Security=True\";\\n            sqlConnection = new SqlConnection(connectionString);\\n        }\\n\\n        public DataTable LoadCategory()\\n        {\\n            commandString = @\"SELECT * FROM Categorys\";\\n            sqlCommand = new SqlCommand(commandString, sqlConnection);\\n\\n            sqlConnection.Open();\\n\\n            sqlDataAdapter = new SqlDataAdapter(sqlCommand);\\n            dataTable = new DataTable();\\n            sqlDataAdapter.Fill(dataTable);\\n\\n            sqlConnection.Close();\\n\\n            return dataTable;\\n        }\\n\\n        public DataTable LoadCompany()\\n        {\\n            commandString = @\"SELECT * FROM Companys\";\\n            sqlCommand = new SqlCommand(commandString, sqlConnection);\\n\\n            sqlConnection.Open();\\n\\n            sqlDataAdapter = new SqlDataAdapter(sqlCommand);\\n            dataTable = new DataTable();\\n            sqlDataAdapter.Fill(dataTable);\\n\\n            sqlConnection.Close();\\n\\n            return dataTable;\\n        }\\n\\n        public int ItemInsert(Item item)\\n        {\\n            int isExecuted = 0;\\n\\n            commandString = @\"INSERT INTO Items VALUES (\\'\" + item.ItemName + \"\\', \" + item.CategoryID + \" ,\" + item.CompanyID + \", \" + item.ReorderLevel + \", 0)\";\\n            sqlCommand = new SqlCommand(commandString, sqlConnection);\\n\\n            sqlConnection.Open();\\n\\n            isExecuted = sqlCommand.ExecuteNonQuery();\\n\\n            sqlConnection.Close();\\n\\n            return isExecuted;\\n        }\\n\\n        public bool IsDuplicate(Item item)\\n        {\\n            bool isDuplicate = false;\\n\\n            commandString = @\"SELECT ID FROM Items WHERE ItemName = \\'\" + item.ItemName + \"\\' AND CategoryID = \" + item.CategoryID + \" AND CompanyID = \" + item.CompanyID;\\n            sqlCommand = new SqlCommand(commandString, sqlConnection);\\n\\n            sqlConnection.Open();\\n\\n            sqlDataAdapter = new SqlDataAdapter(sqlCommand);\\n            dataTable = new DataTable();\\n            sqlDataAdapter.Fill(dataTable);\\n\\n            if (dataTable != null && dataTable.Rows.Count > 0)\\n            {\\n                isDuplicate = true;\\n            }\\n\\n            sqlConnection.Close();\\n\\n            return isDuplicate;\\n        }\\n\\n        public DataTable Search(Item item)\\n        {\\n            commandString = \"\";\\n            if (String.IsNullOrEmpty(item.Category))\\n            {\\n                commandString = @\"SELECT I.ItemName, I.ReorderLevel, I.AvailableQuantity, Com.Name As Company, Cat.Name As Category\\n                                  FROM ((Items As I\\n                                  LEFT OUTER JOIN Companys As Com ON I.CompanyID = Com.ID)\\n                                  LEFT OUTER JOIN Categorys As Cat ON I.CategoryID = Cat.ID)\\n                                  WHERE Com.Name = \\'\" + item.Company + \"\\'\";\\n            }\\n\\n            if (String.IsNullOrEmpty(item.Company))\\n            {\\n                commandString = @\"SELECT I.ItemName, I.ReorderLevel, I.AvailableQuantity, Com.Name As Company, Cat.Name As Category\\n                                  FROM ((Items As I\\n                                  LEFT OUTER JOIN Companys As Com ON I.CompanyID = Com.ID)\\n                                  LEFT OUTER JOIN Categorys As Cat ON I.CategoryID = Cat.ID)\\n                                  WHERE Cat.Name = \\'\" + item.Category + \"\\'\";\\n            }\\n\\n            if (!String.IsNullOrEmpty(item.Category) && !String.IsNullOrEmpty(item.Company))\\n            {\\n                commandString = @\"SELECT I.ItemName, I.ReorderLevel, I.AvailableQuantity, Com.Name As Company, Cat.Name As Category\\n                                  FROM ((Items As I\\n                                  LEFT OUTER JOIN Companys As Com ON I.CompanyID = Com.ID)\\n                                  LEFT OUTER JOIN Categorys As Cat ON I.CategoryID = Cat.ID)\\n                                  WHERE Cat.Name = \\'\" + item.Category + \"\\' AND Com.Name = \\'\" + item.Company + \"\\'\";\\n            }\\n\\n            if (!String.IsNullOrEmpty(commandString))\\n            {\\n                sqlCommand = new SqlCommand(commandString, sqlConnection);\\n\\n                sqlConnection.Open();\\n\\n                sqlDataAdapter = new SqlDataAdapter(sqlCommand);\\n                dataTable = new DataTable();\\n                sqlDataAdapter.Fill(dataTable);\\n\\n                sqlConnection.Close();\\n                return dataTable;\\n            }\\n            else\\n            {\\n                return null;\\n            }\\n        }\\n    }\\n}\\n', metadata={'source': 'DotNetFramework/ItemRepository.cs', 'language': <Language.CSHARP: 'csharp'>}),\n",
       " Document(page_content='using System;\\nusing System.Data.SqlClient;\\n\\n\\n    class DBManager\\n    {\\n        public static void ExecuteTopTenQuery()\\n        {\\n            string connectionString = \"Data Source=ServerName;Initial Catalog=DatabaseName;Integrated Security=True\";\\n            string query = \"SELECT TOP 10 * FROM YourTable\";\\n\\n            using (SqlConnection connection = new SqlConnection(connectionString))\\n            {\\n                SqlCommand command = new SqlCommand(query, connection);\\n                try\\n                {\\n                    connection.Open();\\n                    using (SqlDataReader reader = command.ExecuteReader())\\n                    {\\n                        while (reader.Read())\\n                        {\\n                            Console.WriteLine(reader[0].ToString()); // Adjust the index to match the column you\\'re interested in\\n                        }\\n                    }\\n                }\\n                catch (Exception ex)\\n                {\\n                    Console.WriteLine(ex.Message);\\n                }\\n            }\\n        }\\n    }\\n', metadata={'source': 'DotNetFramework/DBManager.cs', 'language': <Language.CSHARP: 'csharp'>})]"
      ]
     },
     "execution_count": 150,
     "metadata": {},
     "output_type": "execute_result"
    }
   ],
   "source": [
    "docs"
   ]
  },
  {
   "cell_type": "code",
   "execution_count": 151,
   "metadata": {},
   "outputs": [],
   "source": [
    "from langchain.text_splitter import RecursiveCharacterTextSplitter\n",
    "\n",
    "code_splitter = RecursiveCharacterTextSplitter.from_language(\n",
    "    language=Language.CSHARP, chunk_size=10000, chunk_overlap=0\n",
    ")\n",
    "documents = code_splitter.split_documents(docs)\n",
    "\n"
   ]
  },
  {
   "cell_type": "code",
   "execution_count": 152,
   "metadata": {},
   "outputs": [
    {
     "data": {
      "text/plain": [
       "[Document(page_content='\\ufeffusing System;\\nusing System.Collections.Generic;\\nusing System.Linq;\\nusing System.Data;\\nusing System.Data.SqlClient;\\nusing System.Text;\\nusing System.Threading.Tasks;\\nusing StockManagementSystem.Models;\\n\\nnamespace StockManagementSystem.Repository\\n{\\n    public class CategoryRepository\\n    {\\n        string connectionString;\\n        SqlConnection sqlConnection;\\n        private string commandString;\\n        private SqlCommand sqlCommand;\\n        SqlDataAdapter sqlDataAdapter;\\n        DataTable dataTable;\\n\\n        public CategoryRepository()\\n        {\\n            connectionString = @\"Server=LAPTOP-BASHAROV\\\\SQLEXPRESS; Database=StockManagementSystemDB; Integrated Security=True\";\\n            sqlConnection = new SqlConnection(connectionString);\\n        }\\n\\n        public DataTable LoadCategoryDataGridView()\\n        {\\n            commandString = @\"SELECT * FROM Categorys\";\\n            sqlCommand = new SqlCommand(commandString, sqlConnection);\\n            \\n            sqlConnection.Open();\\n\\n            sqlDataAdapter = new SqlDataAdapter(sqlCommand);\\n            dataTable = new DataTable();\\n            sqlDataAdapter.Fill(dataTable);\\n\\n            sqlConnection.Close();\\n\\n            return dataTable;\\n        }\\n\\n        public bool ValidationCheck(Category category)\\n        {\\n            commandString = @\"SELECT * FROM Categorys WHERE Name = \\'\" + category.Name + \"\\'\";\\n            sqlCommand = new SqlCommand(commandString, sqlConnection);\\n\\n            sqlConnection.Open();\\n\\n            sqlDataAdapter = new SqlDataAdapter(sqlCommand);\\n            dataTable = new DataTable();\\n            sqlDataAdapter.Fill(dataTable);\\n\\n            bool isExist = false;\\n            if (dataTable.Rows.Count > 0)\\n            {\\n                isExist = true;\\n            }\\n\\n            sqlConnection.Close();\\n\\n            return isExist;\\n        }\\n\\n        public int InsertCategory(Category category)\\n        {\\n            commandString = @\"INSERT INTO Categorys (Name) VALUES (\\'\" + category.Name + \"\\')\";\\n            sqlCommand = new SqlCommand(commandString, sqlConnection);\\n\\n            sqlConnection.Open();\\n\\n            int isExecuted = 0;\\n\\n            isExecuted = sqlCommand.ExecuteNonQuery();\\n\\n            sqlConnection.Close();\\n\\n            return isExecuted;\\n        }\\n\\n        public int UpdateCategory(Category category)\\n        {\\n            commandString = \"UPDATE Categorys SET Name = \\'\" + category.Name + \"\\' WHERE ID = \" + category.ID + \"\";\\n            sqlCommand = new SqlCommand(commandString, sqlConnection);\\n\\n            sqlConnection.Open();\\n\\n            int isExecuted = 0;\\n\\n            isExecuted = sqlCommand.ExecuteNonQuery();\\n\\n            sqlConnection.Close();\\n\\n            return isExecuted;\\n        }\\n    }\\n}', metadata={'source': 'DotNetFramework/CategoryRepository.cs', 'language': <Language.CSHARP: 'csharp'>}),\n",
       " Document(page_content='\\ufeffusing System;\\nusing System.Collections.Generic;\\nusing System.Data;\\nusing System.Data.SqlClient;\\nusing System.Linq;\\nusing System.Text;\\nusing System.Threading.Tasks;\\n\\nnamespace StockManagementSystem.Repository\\n{\\n    public class UserRepository\\n    {\\n        string connectionString;\\n        SqlConnection sqlConnection;\\n        private string commandString;\\n        private SqlCommand sqlCommand;\\n        SqlDataAdapter sqlDataAdapter;\\n        DataTable dataTable;\\n\\n        public UserRepository()\\n        {\\n            connectionString = @\"Server=LAPTOP-BASHAROV\\\\SQLEXPRESS; Database=StockManagementSystemDB; Integrated Security=True\";\\n            sqlConnection = new SqlConnection(connectionString);\\n        }\\n\\n        public int LogIn(User user)\\n        {\\n            int count = 0;\\n\\n            commandString = \"SELECT * FROM [dbo].[User] WHERE UserName = \\'\" + user.Username + \"\\' and Password = \\'\" + user.Password + \"\\'\";\\n            sqlCommand = new SqlCommand(commandString, sqlConnection);\\n\\n            sqlConnection.Open();\\n\\n            sqlCommand.ExecuteNonQuery();\\n\\n            dataTable = new DataTable();\\n            sqlDataAdapter = new SqlDataAdapter(sqlCommand);\\n            sqlDataAdapter.Fill(dataTable);\\n\\n            count = Convert.ToInt32(dataTable.Rows.Count.ToString());\\n\\n            sqlConnection.Close();\\n            \\n            return count;\\n        }\\n    }\\n}', metadata={'source': 'DotNetFramework/UserRepository.cs', 'language': <Language.CSHARP: 'csharp'>}),\n",
       " Document(page_content='\\ufeffusing StockManagementSystem.Models;\\nusing System;\\nusing System.Collections.Generic;\\nusing System.Data;\\nusing System.Data.SqlClient;\\nusing System.Linq;\\nusing System.Text;\\nusing System.Threading.Tasks;\\n\\nnamespace StockManagementSystem.Repository\\n{\\n    public class StockRepository\\n    {\\n        string connectionString;\\n        SqlConnection sqlConnection;\\n        private string commandString;\\n        private SqlCommand sqlCommand;\\n        SqlDataAdapter sqlDataAdapter;\\n        DataTable dataTable;\\n        SqlDataReader reader;\\n\\n        string reorderLevel;\\n        string availableQuantity;\\n        int itemId;\\n\\n        public StockRepository()\\n        {\\n            connectionString = @\"Server=LAPTOP-BASHAROV\\\\SQLEXPRESS; Database=StockManagementSystemDB; Integrated Security=True\";\\n            sqlConnection = new SqlConnection(connectionString);\\n        }\\n\\n        public DataTable LoadCompany()\\n        {\\n            commandString = @\"SELECT * FROM Companys\";\\n            sqlCommand = new SqlCommand(commandString, sqlConnection);\\n\\n            if (sqlConnection.State == ConnectionState.Closed)\\n            {\\n                sqlConnection.Open();\\n            }\\n\\n            sqlDataAdapter = new SqlDataAdapter(sqlCommand);\\n            dataTable = new DataTable();\\n            sqlDataAdapter.Fill(dataTable);\\n\\n            sqlConnection.Close();\\n\\n            return dataTable;\\n        }\\n\\n        public DataTable LoadCategory()\\n        {\\n            commandString = @\"SELECT * FROM Categorys\";\\n            sqlCommand = new SqlCommand(commandString, sqlConnection);\\n\\n            if (sqlConnection.State == ConnectionState.Closed)\\n            {\\n                sqlConnection.Open();\\n            }\\n\\n            sqlDataAdapter = new SqlDataAdapter(sqlCommand);\\n            dataTable = new DataTable();\\n            sqlDataAdapter.Fill(dataTable);\\n\\n            sqlConnection.Close();\\n\\n            return dataTable;\\n        }\\n\\n        public DataTable LoadItem(int companyId, int categoryId)\\n        {\\n            commandString = @\"SELECT Items.ItemName FROM ((Items LEFT JOIN Companys ON Items.CompanyID = Companys.ID) LEFT JOIN Categorys ON Items.CategoryID = Categorys.ID) WHERE Companys.ID = \\'\" + companyId + \"\\' AND Categorys.ID = \\'\" + categoryId + \"\\'\";\\n            sqlCommand = new SqlCommand(commandString, sqlConnection);\\n\\n            if (sqlConnection.State == ConnectionState.Closed)\\n            {\\n                sqlConnection.Open();\\n            }\\n\\n            sqlDataAdapter = new SqlDataAdapter(sqlCommand);\\n            dataTable = new DataTable();\\n            sqlDataAdapter.Fill(dataTable);\\n\\n            sqlConnection.Close();\\n\\n            return dataTable;\\n        }\\n\\n        public string LoadReorder(Stock stock)\\n        {\\n            commandString = @\"SELECT ReorderLevel FROM Items WHERE ItemName = \\'\" + stock.ItemName + \"\\'\";\\n            sqlCommand = new SqlCommand(commandString, sqlConnection);\\n\\n            if (sqlConnection.State == ConnectionState.Closed)\\n            {\\n                sqlConnection.Open();\\n            }\\n\\n            reader = sqlCommand.ExecuteReader();\\n            while (reader.Read())\\n            {\\n                reorderLevel = (reader[\"ReorderLevel\"]).ToString();\\n            }\\n\\n            sqlConnection.Close();\\n\\n            return reorderLevel;\\n        }\\n\\n        public string LoadQuantity(Stock stock)\\n        {\\n            commandString = @\"SELECT AvailableQuantity FROM Items WHERE ItemName = \\'\" + stock.ItemName + \"\\'\";\\n            sqlCommand = new SqlCommand(commandString, sqlConnection);\\n\\n            if (sqlConnection.State == ConnectionState.Closed)\\n            {\\n                sqlConnection.Open();\\n            }\\n\\n            reader = sqlCommand.ExecuteReader();\\n            while (reader.Read())\\n            {\\n                availableQuantity = (reader[\"AvailableQuantity\"]).ToString();\\n            }\\n\\n            sqlConnection.Close();\\n\\n            return availableQuantity;\\n        }\\n\\n        public int LoadItemID(Stock stock)\\n        {\\n            commandString = @\"SELECT ID FROM Items WHERE ItemName = \\'\" + stock.ItemName + \"\\'\";\\n            sqlCommand = new SqlCommand(commandString, sqlConnection);\\n\\n            if (sqlConnection.State == ConnectionState.Closed)\\n            {\\n                sqlConnection.Open();\\n            }\\n\\n            reader = sqlCommand.ExecuteReader();\\n            while (reader.Read())\\n            {\\n                itemId = Convert.ToInt32(reader[\"ID\"]);\\n            }\\n\\n            sqlConnection.Close();\\n\\n            return itemId;\\n        }\\n\\n        public int StockIn(Stock stock)\\n        {\\n            int isExecuted = 0;\\n\\n            commandString = \"INSERT INTO Stocks (ItemID, Quantity, Date, Status) VALUES (\" + stock.ItemID + \", \" + stock.Quantity + \", \\'\" + stock.Date + \"\\', \\'\" + stock.Status + \"\\')\";\\n            sqlCommand = new SqlCommand(commandString, sqlConnection);\\n\\n            if (sqlConnection.State == ConnectionState.Closed)\\n            {\\n                sqlConnection.Open();\\n            }\\n\\n            isExecuted = sqlCommand.ExecuteNonQuery();\\n\\n            sqlConnection.Close();\\n\\n            return isExecuted;\\n        }\\n\\n        public int UpdateStock(Stock stock)\\n        {\\n            int isExecuted = 0;\\n\\n            string query = \"UPDATE Stocks SET Quantity = \\'\" + stock.Quantity + \"\\' WHERE ID = \\'\" + stock.ID + \"\\'\";\\n            sqlCommand = new SqlCommand(query, sqlConnection);\\n\\n            if (sqlConnection.State == ConnectionState.Closed)\\n            {\\n                sqlConnection.Open();\\n            }\\n\\n            isExecuted = sqlCommand.ExecuteNonQuery();\\n\\n            sqlConnection.Close();\\n\\n            return isExecuted;\\n        }\\n\\n        public int InsertAvailableQuantity(Item item)\\n        {\\n            int isExecuted = 0;\\n\\n            string query = \"UPDATE Items SET AvailableQuantity = \\'\" + item.AvailableQuantity + \"\\' WHERE ID = \\'\" + item.ID + \"\\'\";\\n            sqlCommand = new SqlCommand(query, sqlConnection);\\n\\n            if (sqlConnection.State == ConnectionState.Closed)\\n            {\\n                sqlConnection.Open();\\n            }\\n\\n            isExecuted = sqlCommand.ExecuteNonQuery();\\n\\n            sqlConnection.Close();\\n\\n            return isExecuted;\\n        }\\n\\n        public DataTable DisplayStock(Stock stock)\\n        {\\n            commandString = @\"SELECT * FROM StocksView WHERE ItemName = \\'\" + stock.ItemName + \"\\' ORDER BY Date DESC\";\\n            sqlCommand = new SqlCommand(commandString, sqlConnection);\\n\\n            if (sqlConnection.State == ConnectionState.Closed)\\n            {\\n                sqlConnection.Open();\\n            }\\n\\n            sqlDataAdapter = new SqlDataAdapter(sqlCommand);\\n            dataTable = new DataTable();\\n            sqlDataAdapter.Fill(dataTable);\\n\\n            sqlConnection.Close();\\n\\n            return dataTable;\\n        }\\n\\n        public DataTable GetQuantity(Item item)\\n        {\\n            commandString = @\"SELECT * FROM Items WHERE ID = \" + item.ID + \"\";\\n            sqlCommand = new SqlCommand(commandString, sqlConnection);\\n\\n            sqlConnection.Open();\\n\\n\\t        sqlDataAdapter = new SqlDataAdapter(sqlCommand);\\n            dataTable = new DataTable();\\n            sqlDataAdapter.Fill(dataTable);\\n\\n            sqlConnection.Close();\\n\\n\\t        return dataTable;\\n\\t    }\\n\\n        public int StockOut(Stock stock)\\n        {\\n            int isExecuted = 0;\\n\\n            commandString = \"INSERT INTO Stocks (ItemID, Quantity, Date, Status) VALUES (\" + stock.ItemID + \", \" + stock.Quantity + \", \\'\" + stock.Date + \"\\', \\'\" + stock.Status + \"\\')\";\\n            sqlCommand = new SqlCommand(commandString, sqlConnection);\\n\\n            sqlConnection.Open();\\n\\n            isExecuted = sqlCommand.ExecuteNonQuery();\\n\\n            sqlConnection.Close();\\n\\n            return isExecuted;\\n        }\\n\\n        public DataTable ViewReport(string fromDate, string toDate, string status)\\n        {\\n            commandString = @\"SELECT i.ItemName AS ItemName, com.Name AS Company, SUM(s.Quantity) AS Quantity \\n                              FROM Stocks As s, Companys AS com, Items AS i \\n                              WHERE s.ItemID = i.ID AND i.CompanyID = com.ID AND s.Status = \\'\" + status + \"\\' AND s.Date BETWEEN \\'\" + fromDate + \"\\' AND \\'\" + toDate + \"\\' GROUP BY i.ItemName, com.Name\";\\n\\n            sqlCommand = new SqlCommand(commandString, sqlConnection);\\n\\n            sqlConnection.Open();\\n\\n            sqlDataAdapter = new SqlDataAdapter(sqlCommand);\\n            dataTable = new DataTable();\\n            sqlDataAdapter.Fill(dataTable);\\n\\n            sqlConnection.Close();\\n\\n            return dataTable;\\n        }\\n    }\\n}', metadata={'source': 'DotNetFramework/StockRepository.cs', 'language': <Language.CSHARP: 'csharp'>}),\n",
       " Document(page_content='\\ufeffusing System;\\nusing System.Collections.Generic;\\nusing System.Linq;\\nusing System.Data;\\nusing System.Data.SqlClient;\\nusing System.Text;\\nusing System.Threading.Tasks;\\nusing StockManagementSystem.Models;\\n\\nnamespace StockManagementSystem.Repository\\n{\\n    public class CompanyRepository\\n    {\\n        string connectionString;\\n        SqlConnection sqlConnection;\\n        private string commandString;\\n        private SqlCommand sqlCommand;\\n        SqlDataAdapter sqlDataAdapter;\\n        DataTable dataTable;\\n\\n        public CompanyRepository()\\n        {\\n            connectionString = @\"Server=LAPTOP-BASHAROV\\\\SQLEXPRESS; Database=StockManagementSystemDB; Integrated Security=True\";\\n            sqlConnection = new SqlConnection(connectionString);\\n        }\\n\\n        public DataTable LoadCompanyDataGridView()\\n        {\\n            commandString = @\"SELECT * FROM Companys\";\\n            sqlCommand = new SqlCommand(commandString, sqlConnection);\\n\\n            sqlConnection.Open();\\n\\n            sqlDataAdapter = new SqlDataAdapter(sqlCommand);\\n            dataTable = new DataTable();\\n            sqlDataAdapter.Fill(dataTable);\\n\\n            sqlConnection.Close();\\n\\n            return dataTable;\\n        }\\n\\n        public int InsertCompany(Company company)\\n        {\\n            commandString = @\"INSERT INTO Companys (Name) VALUES (\\'\" + company.Name + \"\\')\";\\n            sqlCommand = new SqlCommand(commandString, sqlConnection);\\n\\n            sqlConnection.Open();\\n\\n            int isExecuted = 0;\\n\\n            isExecuted = sqlCommand.ExecuteNonQuery();\\n\\n            sqlConnection.Close();\\n\\n            return isExecuted;\\n        }\\n\\n        public int UpdateCompany(Company company)\\n        {\\n            commandString = \"UPDATE Companys SET Name = \\'\" + company.Name + \"\\' WHERE ID = \" + company.ID + \"\";\\n            sqlCommand = new SqlCommand(commandString, sqlConnection);\\n            \\n            sqlConnection.Open();\\n\\n            int isExecuted = 0;\\n\\n            isExecuted = sqlCommand.ExecuteNonQuery();\\n\\n            sqlConnection.Close();\\n\\n            return isExecuted;\\n        }\\n\\n        public bool ValidationCheck(Company company)\\n        {\\n            commandString = @\"SELECT * FROM Companys WHERE Name = \\'\" + company.Name + \"\\'\";\\n            sqlCommand = new SqlCommand(commandString, sqlConnection);\\n\\n            sqlConnection.Open();\\n\\n            sqlDataAdapter = new SqlDataAdapter(sqlCommand);\\n            dataTable = new DataTable();\\n            sqlDataAdapter.Fill(dataTable);\\n\\n            bool isExist = false;\\n            if (dataTable.Rows.Count > 0)\\n            {\\n                isExist = true;\\n            }\\n\\n            sqlConnection.Close();\\n\\n            return isExist;\\n        }\\n    }\\n}', metadata={'source': 'DotNetFramework/CompanyRepository.cs', 'language': <Language.CSHARP: 'csharp'>}),\n",
       " Document(page_content='using System;\\nusing System.Web.UI;\\nusing System.Web.UI.WebControls;\\n\\nnamespace WebFormsApp\\n{\\n    public class CustomWebControl : WebControl\\n    {\\n        protected override void RenderContents(HtmlTextWriter writer)\\n        {\\n            writer.Write(\"Hello, this is a testing message.\");\\n        }\\n    }\\n\\n    public partial class WebForm1 : Page\\n    {\\n        protected void Page_Load(object sender, EventArgs e)\\n        {\\n            CustomWebControl myControl = new CustomWebControl();\\n            myControl.ID = \"MyCustomControl\";\\n            this.form1.Controls.Add(myControl);\\n        }\\n    }\\n}', metadata={'source': 'DotNetFramework/CustomWebControl.cs', 'language': <Language.CSHARP: 'csharp'>}),\n",
       " Document(page_content='\\ufeffusing StockManagementSystem.Models;\\nusing System;\\nusing System.Collections.Generic;\\nusing System.Data;\\nusing System.Data.SqlClient;\\nusing System.Linq;\\nusing System.Text;\\nusing System.Threading.Tasks;\\n\\nnamespace StockManagementSystem.Repository\\n{\\n    public class ItemRepository\\n    {\\n        string connectionString;\\n        SqlConnection sqlConnection;\\n        private string commandString;\\n        private SqlCommand sqlCommand;\\n        SqlDataAdapter sqlDataAdapter;\\n        DataTable dataTable;\\n\\n        public ItemRepository()\\n        {\\n            connectionString = @\"SERVER = LAPTOP-BASHAROV\\\\SQLEXPRESS; Database=StockManagementSystemDB; Integrated Security=True\";\\n            sqlConnection = new SqlConnection(connectionString);\\n        }\\n\\n        public DataTable LoadCategory()\\n        {\\n            commandString = @\"SELECT * FROM Categorys\";\\n            sqlCommand = new SqlCommand(commandString, sqlConnection);\\n\\n            sqlConnection.Open();\\n\\n            sqlDataAdapter = new SqlDataAdapter(sqlCommand);\\n            dataTable = new DataTable();\\n            sqlDataAdapter.Fill(dataTable);\\n\\n            sqlConnection.Close();\\n\\n            return dataTable;\\n        }\\n\\n        public DataTable LoadCompany()\\n        {\\n            commandString = @\"SELECT * FROM Companys\";\\n            sqlCommand = new SqlCommand(commandString, sqlConnection);\\n\\n            sqlConnection.Open();\\n\\n            sqlDataAdapter = new SqlDataAdapter(sqlCommand);\\n            dataTable = new DataTable();\\n            sqlDataAdapter.Fill(dataTable);\\n\\n            sqlConnection.Close();\\n\\n            return dataTable;\\n        }\\n\\n        public int ItemInsert(Item item)\\n        {\\n            int isExecuted = 0;\\n\\n            commandString = @\"INSERT INTO Items VALUES (\\'\" + item.ItemName + \"\\', \" + item.CategoryID + \" ,\" + item.CompanyID + \", \" + item.ReorderLevel + \", 0)\";\\n            sqlCommand = new SqlCommand(commandString, sqlConnection);\\n\\n            sqlConnection.Open();\\n\\n            isExecuted = sqlCommand.ExecuteNonQuery();\\n\\n            sqlConnection.Close();\\n\\n            return isExecuted;\\n        }\\n\\n        public bool IsDuplicate(Item item)\\n        {\\n            bool isDuplicate = false;\\n\\n            commandString = @\"SELECT ID FROM Items WHERE ItemName = \\'\" + item.ItemName + \"\\' AND CategoryID = \" + item.CategoryID + \" AND CompanyID = \" + item.CompanyID;\\n            sqlCommand = new SqlCommand(commandString, sqlConnection);\\n\\n            sqlConnection.Open();\\n\\n            sqlDataAdapter = new SqlDataAdapter(sqlCommand);\\n            dataTable = new DataTable();\\n            sqlDataAdapter.Fill(dataTable);\\n\\n            if (dataTable != null && dataTable.Rows.Count > 0)\\n            {\\n                isDuplicate = true;\\n            }\\n\\n            sqlConnection.Close();\\n\\n            return isDuplicate;\\n        }\\n\\n        public DataTable Search(Item item)\\n        {\\n            commandString = \"\";\\n            if (String.IsNullOrEmpty(item.Category))\\n            {\\n                commandString = @\"SELECT I.ItemName, I.ReorderLevel, I.AvailableQuantity, Com.Name As Company, Cat.Name As Category\\n                                  FROM ((Items As I\\n                                  LEFT OUTER JOIN Companys As Com ON I.CompanyID = Com.ID)\\n                                  LEFT OUTER JOIN Categorys As Cat ON I.CategoryID = Cat.ID)\\n                                  WHERE Com.Name = \\'\" + item.Company + \"\\'\";\\n            }\\n\\n            if (String.IsNullOrEmpty(item.Company))\\n            {\\n                commandString = @\"SELECT I.ItemName, I.ReorderLevel, I.AvailableQuantity, Com.Name As Company, Cat.Name As Category\\n                                  FROM ((Items As I\\n                                  LEFT OUTER JOIN Companys As Com ON I.CompanyID = Com.ID)\\n                                  LEFT OUTER JOIN Categorys As Cat ON I.CategoryID = Cat.ID)\\n                                  WHERE Cat.Name = \\'\" + item.Category + \"\\'\";\\n            }\\n\\n            if (!String.IsNullOrEmpty(item.Category) && !String.IsNullOrEmpty(item.Company))\\n            {\\n                commandString = @\"SELECT I.ItemName, I.ReorderLevel, I.AvailableQuantity, Com.Name As Company, Cat.Name As Category\\n                                  FROM ((Items As I\\n                                  LEFT OUTER JOIN Companys As Com ON I.CompanyID = Com.ID)\\n                                  LEFT OUTER JOIN Categorys As Cat ON I.CategoryID = Cat.ID)\\n                                  WHERE Cat.Name = \\'\" + item.Category + \"\\' AND Com.Name = \\'\" + item.Company + \"\\'\";\\n            }\\n\\n            if (!String.IsNullOrEmpty(commandString))\\n            {\\n                sqlCommand = new SqlCommand(commandString, sqlConnection);\\n\\n                sqlConnection.Open();\\n\\n                sqlDataAdapter = new SqlDataAdapter(sqlCommand);\\n                dataTable = new DataTable();\\n                sqlDataAdapter.Fill(dataTable);\\n\\n                sqlConnection.Close();\\n                return dataTable;\\n            }\\n            else\\n            {\\n                return null;\\n            }\\n        }\\n    }\\n}', metadata={'source': 'DotNetFramework/ItemRepository.cs', 'language': <Language.CSHARP: 'csharp'>}),\n",
       " Document(page_content='using System;\\nusing System.Data.SqlClient;\\n\\n\\n    class DBManager\\n    {\\n        public static void ExecuteTopTenQuery()\\n        {\\n            string connectionString = \"Data Source=ServerName;Initial Catalog=DatabaseName;Integrated Security=True\";\\n            string query = \"SELECT TOP 10 * FROM YourTable\";\\n\\n            using (SqlConnection connection = new SqlConnection(connectionString))\\n            {\\n                SqlCommand command = new SqlCommand(query, connection);\\n                try\\n                {\\n                    connection.Open();\\n                    using (SqlDataReader reader = command.ExecuteReader())\\n                    {\\n                        while (reader.Read())\\n                        {\\n                            Console.WriteLine(reader[0].ToString()); // Adjust the index to match the column you\\'re interested in\\n                        }\\n                    }\\n                }\\n                catch (Exception ex)\\n                {\\n                    Console.WriteLine(ex.Message);\\n                }\\n            }\\n        }\\n    }', metadata={'source': 'DotNetFramework/DBManager.cs', 'language': <Language.CSHARP: 'csharp'>})]"
      ]
     },
     "execution_count": 152,
     "metadata": {},
     "output_type": "execute_result"
    }
   ],
   "source": [
    "documents"
   ]
  },
  {
   "cell_type": "code",
   "execution_count": 153,
   "metadata": {},
   "outputs": [],
   "source": [
    "## FAISS Vector Database\n",
    "from langchain_openai import OpenAIEmbeddings\n",
    "# from langchain_community.vectorstores import OllamaEmbeddings\n",
    "from langchain_community.vectorstores import FAISS\n",
    "\n",
    "db = FAISS.from_documents(documents, OpenAIEmbeddings())"
   ]
  },
  {
   "cell_type": "code",
   "execution_count": 154,
   "metadata": {},
   "outputs": [],
   "source": [
    "# from langchain_community.llms import Ollama\n",
    "# llm=Ollama(model=\"llama2\")\n",
    "\n",
    "from langchain_openai import ChatOpenAI\n",
    "# llm=ChatOpenAI(model=\"gpt-3.5-turbo\")\n",
    "llm=ChatOpenAI(model=\"gpt-4-turbo\", temperature=0)\n"
   ]
  },
  {
   "cell_type": "code",
   "execution_count": 155,
   "metadata": {},
   "outputs": [],
   "source": [
    "# ## Design ChatPrompt Template\n",
    "# from langchain_core.prompts import ChatPromptTemplate\n",
    "\n",
    "# prompt=ChatPromptTemplate.from_messages(\n",
    "#     [\n",
    "#         (\"system\",\"Hi ChatGPT, we are going to rewrite some old C# code which is based on .NET Framework. please rewrite the piece of code with .NET 5/6+ or ASP.NET Core.\"),\n",
    "#         (\"user\",\"old code:{oldcode}\")\n",
    "#     ]\n",
    "# )\n",
    "\n",
    "\n",
    "\n",
    "## Design ChatPrompt Template\n",
    "from langchain_core.prompts import ChatPromptTemplate\n",
    "prompt = ChatPromptTemplate.from_template(\"\"\"\n",
    "Hi ChatGPT, we are going to rewrite some old C# code which is based on .NET Framework. \n",
    "Please follow below instructions to generate new source code files:\n",
    "(1) New Code should be based on .NET 8+ or ASP.NET Core. \n",
    "(2) STOP Adding extra information to the source code. Any information in the generated code should be from the context\n",
    "(3) DO NOT generate partial files. I need full source code for compilation.\n",
    "(4) Outmost namespace is AspNetCoreApp                                          \n",
    "(5) Generate the Startup.cs file \n",
    "(6) The generated source code files will be compiled immediately, STOP using HTML-encoding &lt; and &gt; for displaying purpose. Use < and > in the generated code for generic type or HTML tag\n",
    "(7) Use Razor Pages page-based programming model to build web UI. Always create .cshtml and .cshtml.cs file for page implementation \n",
    "(8) For performance reason, if there are SQL query statements, continue use SQL query statement and don't convert to Entity Framework. But make sure the new code is .NET 8+ compatible\n",
    "(9) If the file does not inherently use any .NET Framework-specific features that would prevent it from running under .NET 8 or later, then DO NOT generate new code file.\n",
    "\n",
    "\n",
    "Please follow below instructions to output response:\n",
    "(1)Please use xml tag <description></description> to contain all your description; and use xml tag <NewCode><file name=\"xxxx\"></file><file name=\"yyyy\"></file>...</NewCode> to wrap source code files generated.\n",
    "(2)The content within <file name=\"xxxx\"></file> is valid C# code.\n",
    "                                          \n",
    "In addition, basedon the context provided, please help to identify.Net Framework features replaced.\n",
    "Finally, list original files which can run in .NET 8+ environment without installation of .NET framework. \n",
    "\n",
    "<context>\n",
    "{context}\n",
    "</context>\n",
    "Source code files to be rewritten: {input}\"\"\"\n",
    ")\n"
   ]
  },
  {
   "cell_type": "code",
   "execution_count": 156,
   "metadata": {},
   "outputs": [],
   "source": [
    "## Chain Introduction\n",
    "## Create Stuff Document Chain\n",
    "\n",
    "from langchain.chains.combine_documents import create_stuff_documents_chain\n",
    "\n",
    "document_chain = create_stuff_documents_chain(llm, prompt)"
   ]
  },
  {
   "cell_type": "code",
   "execution_count": 157,
   "metadata": {},
   "outputs": [
    {
     "data": {
      "text/plain": [
       "VectorStoreRetriever(tags=['FAISS', 'OpenAIEmbeddings'], vectorstore=<langchain_community.vectorstores.faiss.FAISS object at 0x7f63cc87a1d0>)"
      ]
     },
     "execution_count": 157,
     "metadata": {},
     "output_type": "execute_result"
    }
   ],
   "source": [
    "\"\"\"A retriever is an interface that returns documents given an unstructured query. \n",
    "It is more general than a vector store. A retriever does not need to be able to store documents,\n",
    "only to return (or retrieve) them. Vector stores can be used as the backbone of a retriever, \n",
    "but there are other types of retrievers as well.\n",
    "\"\"\"\n",
    "\n",
    "retriever=db.as_retriever()\n",
    "retriever"
   ]
  },
  {
   "cell_type": "code",
   "execution_count": 158,
   "metadata": {},
   "outputs": [],
   "source": [
    "from langchain.chains import create_retrieval_chain\n",
    "\n",
    "retriever_chain  = create_retrieval_chain(retriever, document_chain)"
   ]
  },
  {
   "cell_type": "code",
   "execution_count": 159,
   "metadata": {},
   "outputs": [],
   "source": [
    "# response=retriever_chain.invoke({\"input\": documents[0].page_content})\n",
    "response=retriever_chain.invoke({\"input\": \"CustomWebControl.cs\"})"
   ]
  },
  {
   "cell_type": "code",
   "execution_count": 160,
   "metadata": {},
   "outputs": [
    {
     "data": {
      "text/plain": [
       "'<description>The provided context includes a WebForms application using System.Web.UI, which is not supported in .NET Core or .NET 8+. Therefore, the CustomWebControl class needs to be rewritten using ASP.NET Core\\'s Razor Pages model. The DBManager and repository classes use ADO.NET with SQL queries, which are compatible with .NET 8+ and do not require rewriting under the provided instructions.</description>\\n\\n<NewCode>\\n<file name=\"Startup.cs\">\\nusing Microsoft.AspNetCore.Builder;\\nusing Microsoft.AspNetCore.Hosting;\\nusing Microsoft.Extensions.DependencyInjection;\\nusing Microsoft.Extensions.Hosting;\\n\\nnamespace AspNetCoreApp\\n{\\n    public class Startup\\n    {\\n        public void ConfigureServices(IServiceCollection services)\\n        {\\n            services.AddRazorPages();\\n        }\\n\\n        public void Configure(IApplicationBuilder app, IWebHostEnvironment env)\\n        {\\n            if (env.IsDevelopment())\\n            {\\n                app.UseDeveloperExceptionPage();\\n            }\\n\\n            app.UseStaticFiles();\\n\\n            app.UseRouting();\\n\\n            app.UseAuthorization();\\n\\n            app.UseEndpoints(endpoints =>\\n            {\\n                endpoints.MapRazorPages();\\n            });\\n        }\\n    }\\n}\\n</file>\\n\\n<file name=\"CustomWebControl.cshtml\">\\n@page\\n@model AspNetCoreApp.Pages.CustomWebControlModel\\n\\n<h1>Hello, this is a testing message.</h1>\\n</file>\\n\\n<file name=\"CustomWebControl.cshtml.cs\">\\nusing Microsoft.AspNetCore.Mvc.RazorPages;\\n\\nnamespace AspNetCoreApp.Pages\\n{\\n    public class CustomWebControlModel : PageModel\\n    {\\n        public void OnGet()\\n        {\\n        }\\n    }\\n}\\n</file>\\n</NewCode>'"
      ]
     },
     "execution_count": 160,
     "metadata": {},
     "output_type": "execute_result"
    }
   ],
   "source": [
    "response['answer']"
   ]
  },
  {
   "cell_type": "code",
   "execution_count": 161,
   "metadata": {},
   "outputs": [
    {
     "data": {
      "text/plain": [
       "<IPython.core.display.Markdown object>"
      ]
     },
     "metadata": {},
     "output_type": "display_data"
    },
    {
     "name": "stdout",
     "output_type": "stream",
     "text": [
      "<file name=\"Startup.cs\">\n",
      "using Microsoft.AspNetCore.Builder;\n",
      "using Microsoft.AspNetCore.Hosting;\n",
      "using Microsoft.Extensions.DependencyInjection;\n",
      "using Microsoft.Extensions.Hosting;\n",
      "\n",
      "namespace AspNetCoreApp\n",
      "{\n",
      "    public class Startup\n",
      "    {\n",
      "        public void ConfigureServices(IServiceCollection services)\n",
      "        {\n",
      "            services.AddRazorPages();\n",
      "        }\n",
      "\n",
      "        public void Configure(IApplicationBuilder app, IWebHostEnvironment env)\n",
      "        {\n",
      "            if (env.IsDevelopment())\n",
      "            {\n",
      "                app.UseDeveloperExceptionPage();\n",
      "            }\n",
      "\n",
      "            app.UseStaticFiles();\n",
      "\n",
      "            app.UseRouting();\n",
      "\n",
      "            app.UseAuthorization();\n",
      "\n",
      "            app.UseEndpoints(endpoints =>\n",
      "            {\n",
      "                endpoints.MapRazorPages();\n",
      "            });\n",
      "        }\n",
      "    }\n",
      "}\n",
      "</file>\n",
      "\n",
      "<file name=\"CustomWebControl.cshtml\">\n",
      "@page\n",
      "@model AspNetCoreApp.Pages.CustomWebControlModel\n",
      "\n",
      "<h1>Hello, this is a testing message.</h1>\n",
      "</file>\n",
      "\n",
      "<file name=\"CustomWebControl.cshtml.cs\">\n",
      "using Microsoft.AspNetCore.Mvc.RazorPages;\n",
      "\n",
      "namespace AspNetCoreApp.Pages\n",
      "{\n",
      "    public class CustomWebControlModel : PageModel\n",
      "    {\n",
      "        public void OnGet()\n",
      "        {\n",
      "        }\n",
      "    }\n",
      "}\n",
      "</file>\n"
     ]
    }
   ],
   "source": [
    "import re\n",
    "from IPython.display import display, Markdown\n",
    "\n",
    "# Your input string\n",
    "input_string = response['answer']\n",
    "\n",
    "\n",
    "\n",
    "code_match = re.search(r'<NewCode>\\n(.*?)\\n</NewCode>', input_string, re.DOTALL)\n",
    "description_match = re.search(r'<description>\\n(.*?)\\n</description>', input_string, re.DOTALL)\n",
    "\n",
    "# Extracted code and description\n",
    "code = code_match.group(1) if code_match else None\n",
    "description = description_match.group(1) if description_match else None\n",
    "\n",
    "display(Markdown(description))\n",
    "\n",
    "print(code)"
   ]
  },
  {
   "cell_type": "code",
   "execution_count": 162,
   "metadata": {},
   "outputs": [
    {
     "name": "stdout",
     "output_type": "stream",
     "text": [
      "File saved: Startup.cs\n",
      "File saved: CustomWebControl.cshtml\n",
      "File saved: CustomWebControl.cshtml.cs\n"
     ]
    }
   ],
   "source": [
    "pattern = re.compile(r'<file name=\"(.+?)\">(.*?)</file>', re.DOTALL)\n",
    "\n",
    "# Finding all matches\n",
    "matches = pattern.findall(code)\n",
    "\n",
    "# Loop through matches and write to files\n",
    "for file_name, file_content in matches:\n",
    "    # Strip leading and trailing whitespaces from the content\n",
    "    file_content = file_content.strip()\n",
    "    # Open the file in write mode and write the content\n",
    "    with open(\"./DotNet/\"+file_name, 'w') as file:\n",
    "        file.write(file_content)\n",
    "    print(f\"File saved: {file_name}\")"
   ]
  }
 ],
 "metadata": {
  "kernelspec": {
   "display_name": "myenv",
   "language": "python",
   "name": "python3"
  },
  "language_info": {
   "codemirror_mode": {
    "name": "ipython",
    "version": 3
   },
   "file_extension": ".py",
   "mimetype": "text/x-python",
   "name": "python",
   "nbconvert_exporter": "python",
   "pygments_lexer": "ipython3",
   "version": "3.11.9"
  }
 },
 "nbformat": 4,
 "nbformat_minor": 2
}
