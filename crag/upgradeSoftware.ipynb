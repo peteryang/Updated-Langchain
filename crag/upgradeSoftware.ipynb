{
 "cells": [
  {
   "cell_type": "code",
   "execution_count": 1,
   "metadata": {},
   "outputs": [
    {
     "name": "stderr",
     "output_type": "stream",
     "text": [
      "Python-dotenv could not parse statement starting at line 1\n",
      "Python-dotenv could not parse statement starting at line 7\n"
     ]
    }
   ],
   "source": [
    "import os\n",
    "from dotenv import load_dotenv\n",
    "\n",
    "load_dotenv()\n",
    "\n",
    "os.environ[\"OPENAI_API_KEY\"]=os.getenv(\"OPENAI_API_KEY\")\n",
    "## Langmith tracking\n",
    "os.environ[\"LANGCHAIN_TRACING_V2\"]=\"true\"\n",
    "os.environ[\"LANGCHAIN_API_KEY\"]=os.getenv(\"LANGCHAIN_API_KEY\")"
   ]
  },
  {
   "cell_type": "code",
   "execution_count": 2,
   "metadata": {},
   "outputs": [],
   "source": [
    "import warnings\n",
    "\n",
    "warnings.filterwarnings(\"ignore\")\n",
    "from pprint import pprint\n",
    "\n",
    "from langchain_community.document_loaders.generic import GenericLoader\n",
    "from langchain_community.document_loaders.parsers import LanguageParser\n",
    "from langchain_text_splitters import Language\n"
   ]
  },
  {
   "cell_type": "code",
   "execution_count": 3,
   "metadata": {},
   "outputs": [],
   "source": [
    "loader = GenericLoader.from_filesystem(\n",
    "    \"./DotNetFramework/\",\n",
    "    glob=\"*\",\n",
    "    suffixes=[\".cs\"],\n",
    "    parser=LanguageParser(language=Language.CSHARP, parser_threshold=1000),    \n",
    ")\n",
    "docs = loader.load()"
   ]
  },
  {
   "cell_type": "code",
   "execution_count": 19,
   "metadata": {},
   "outputs": [
    {
     "data": {
      "text/plain": [
       "'DotNetFramework/file1.cs'"
      ]
     },
     "execution_count": 19,
     "metadata": {},
     "output_type": "execute_result"
    }
   ],
   "source": [
    "docs[0].metadata['source']"
   ]
  },
  {
   "cell_type": "code",
   "execution_count": 5,
   "metadata": {},
   "outputs": [],
   "source": [
    "from langchain.text_splitter import RecursiveCharacterTextSplitter\n",
    "\n",
    "code_splitter = RecursiveCharacterTextSplitter.from_language(\n",
    "    language=Language.CSHARP, chunk_size=1000, chunk_overlap=0\n",
    ")\n",
    "documents = code_splitter.split_documents(docs)\n",
    "\n"
   ]
  },
  {
   "cell_type": "code",
   "execution_count": 6,
   "metadata": {},
   "outputs": [
    {
     "data": {
      "text/plain": [
       "'using System;\\nusing System.Web.UI;\\nusing System.Web.UI.WebControls;\\n\\nnamespace WebFormsApp\\n{\\n    public class CustomWebControl : WebControl\\n    {\\n        protected override void RenderContents(HtmlTextWriter writer)\\n        {\\n            writer.Write(\"Hello, this is a custom WebControl for .NET Framework WebForms.\");\\n        }\\n    }\\n\\n    public partial class WebForm1 : Page\\n    {\\n        protected void Page_Load(object sender, EventArgs e)\\n        {\\n            CustomWebControl myControl = new CustomWebControl();\\n            myControl.ID = \"MyCustomControl\";\\n            this.form1.Controls.Add(myControl);\\n        }\\n    }\\n}'"
      ]
     },
     "execution_count": 6,
     "metadata": {},
     "output_type": "execute_result"
    }
   ],
   "source": [
    "documents[0].page_content"
   ]
  },
  {
   "cell_type": "code",
   "execution_count": 7,
   "metadata": {},
   "outputs": [],
   "source": [
    "## FAISS Vector Database\n",
    "from langchain_openai import OpenAIEmbeddings\n",
    "# from langchain_community.vectorstores import OllamaEmbeddings\n",
    "from langchain_community.vectorstores import FAISS\n",
    "\n",
    "db = FAISS.from_documents(documents, OpenAIEmbeddings())"
   ]
  },
  {
   "cell_type": "code",
   "execution_count": 8,
   "metadata": {},
   "outputs": [],
   "source": [
    "# from langchain_community.llms import Ollama\n",
    "# llm=Ollama(model=\"llama2\")\n",
    "\n",
    "from langchain_openai import ChatOpenAI\n",
    "llm=ChatOpenAI(model=\"gpt-3.5-turbo\")\n"
   ]
  },
  {
   "cell_type": "code",
   "execution_count": 9,
   "metadata": {},
   "outputs": [],
   "source": [
    "# ## Design ChatPrompt Template\n",
    "# from langchain_core.prompts import ChatPromptTemplate\n",
    "\n",
    "# prompt=ChatPromptTemplate.from_messages(\n",
    "#     [\n",
    "#         (\"system\",\"Hi ChatGPT, we are going to rewrite some old C# code which is based on .NET Framework. please rewrite the piece of code with .NET 5/6+ or ASP.NET Core.\"),\n",
    "#         (\"user\",\"old code:{oldcode}\")\n",
    "#     ]\n",
    "# )\n",
    "\n",
    "\n",
    "\n",
    "## Design ChatPrompt Template\n",
    "from langchain_core.prompts import ChatPromptTemplate\n",
    "prompt = ChatPromptTemplate.from_template(\"\"\"\n",
    "Hi ChatGPT, we are going to rewrite some old C# code which is based on .NET Framework. please rewrite the piece of code with .NET 5/6+ or ASP.NET Core. \n",
    "In addition, basedon the context provided, please help to identify.Net Framework features replaced. To make it easy to extract the new code, please wrap the new code between <newcode> and </newcode>.\n",
    "<context>\n",
    "{context}\n",
    "</context>\n",
    "Old Code: {input}\"\"\"\n",
    ")\n"
   ]
  },
  {
   "cell_type": "code",
   "execution_count": 10,
   "metadata": {},
   "outputs": [],
   "source": [
    "## Chain Introduction\n",
    "## Create Stuff Document Chain\n",
    "\n",
    "from langchain.chains.combine_documents import create_stuff_documents_chain\n",
    "\n",
    "document_chain = create_stuff_documents_chain(llm, prompt)"
   ]
  },
  {
   "cell_type": "code",
   "execution_count": 11,
   "metadata": {},
   "outputs": [
    {
     "data": {
      "text/plain": [
       "VectorStoreRetriever(tags=['FAISS', 'OpenAIEmbeddings'], vectorstore=<langchain_community.vectorstores.faiss.FAISS object at 0x7f8f5c790980>)"
      ]
     },
     "execution_count": 11,
     "metadata": {},
     "output_type": "execute_result"
    }
   ],
   "source": [
    "\"\"\"A retriever is an interface that returns documents given an unstructured query. \n",
    "It is more general than a vector store. A retriever does not need to be able to store documents,\n",
    "only to return (or retrieve) them. Vector stores can be used as the backbone of a retriever, \n",
    "but there are other types of retrievers as well.\n",
    "\"\"\"\n",
    "\n",
    "retriever=db.as_retriever()\n",
    "retriever"
   ]
  },
  {
   "cell_type": "code",
   "execution_count": 12,
   "metadata": {},
   "outputs": [],
   "source": [
    "from langchain.chains import create_retrieval_chain\n",
    "\n",
    "retriever_chain  = create_retrieval_chain(retriever, document_chain)"
   ]
  },
  {
   "cell_type": "code",
   "execution_count": 13,
   "metadata": {},
   "outputs": [],
   "source": [
    "response=retriever_chain.invoke({\"input\": documents[0].page_content})"
   ]
  },
  {
   "cell_type": "code",
   "execution_count": 14,
   "metadata": {},
   "outputs": [
    {
     "data": {
      "text/plain": [
       "'<newcode>\\nusing System;\\nusing Microsoft.AspNetCore.Mvc;\\nusing Microsoft.AspNetCore.Mvc.RazorPages;\\n\\nnamespace WebFormsApp\\n{\\n    public class CustomWebControl : Microsoft.AspNetCore.Mvc.ViewComponents.ViewComponent\\n    {\\n        public IViewComponentResult Invoke()\\n        {\\n            return Content(\"Hello, this is a custom WebControl for ASP.NET Core Razor Pages.\");\\n        }\\n    }\\n\\n    public partial class WebForm1 : PageModel\\n    {\\n        public void OnGet()\\n        {\\n            CustomWebControl myControl = new CustomWebControl();\\n            myControl.ViewContext = this.ViewContext;\\n            this.Response.BodyWriter.Write(\"Hello, this is a custom WebControl for ASP.NET Core Razor Pages.\");\\n        }\\n    }\\n}\\n</newcode> \\n\\n.NET Framework features replaced: \\n- System.Web.UI namespace replaced with Microsoft.AspNetCore.Mvc\\n- Inheritance from WebControl replaced with inheritance from Microsoft.AspNetCore.Mvc.ViewComponents.ViewComponent\\n- Rendering content in a WebControl replaced with returning content in a ViewComponent\\n- Inheritance from Page replaced with inheritance from PageModel\\n- Adding controls to form controls replaced with writing content directly to the response body'"
      ]
     },
     "execution_count": 14,
     "metadata": {},
     "output_type": "execute_result"
    }
   ],
   "source": [
    "response['answer']"
   ]
  },
  {
   "cell_type": "code",
   "execution_count": 26,
   "metadata": {},
   "outputs": [
    {
     "name": "stdout",
     "output_type": "stream",
     "text": [
      "Code Block 1:\n",
      "using System;\n",
      "using Microsoft.AspNetCore.Mvc;\n",
      "using Microsoft.AspNetCore.Mvc.RazorPages;\n",
      "\n",
      "namespace WebFormsApp\n",
      "{\n",
      "    public class CustomWebControl : Microsoft.AspNetCore.Mvc.ViewComponents.ViewComponent\n",
      "    {\n",
      "        public IViewComponentResult Invoke()\n",
      "        {\n",
      "            return Content(\"Hello, this is a custom WebControl for ASP.NET Core Razor Pages.\");\n",
      "        }\n",
      "    }\n",
      "\n",
      "    public partial class WebForm1 : PageModel\n",
      "    {\n",
      "        public void OnGet()\n",
      "        {\n",
      "            CustomWebControl myControl = new CustomWebControl();\n",
      "            myControl.ViewContext = this.ViewContext;\n",
      "            this.Response.BodyWriter.Write(\"Hello, this is a custom WebControl for ASP.NET Core Razor Pages.\");\n",
      "        }\n",
      "    }\n",
      "}\n"
     ]
    },
    {
     "data": {
      "text/markdown": [
       ".NET Framework features replaced: \n",
       "- System.Web.UI namespace replaced with Microsoft.AspNetCore.Mvc\n",
       "- Inheritance from WebControl replaced with inheritance from Microsoft.AspNetCore.Mvc.ViewComponents.ViewComponent\n",
       "- Rendering content in a WebControl replaced with returning content in a ViewComponent\n",
       "- Inheritance from Page replaced with inheritance from PageModel\n",
       "- Adding controls to form controls replaced with writing content directly to the response body"
      ],
      "text/plain": [
       "<IPython.core.display.Markdown object>"
      ]
     },
     "metadata": {},
     "output_type": "display_data"
    }
   ],
   "source": [
    "import re\n",
    "from IPython.display import display, Markdown\n",
    "\n",
    "# Your input string\n",
    "input_str = response['answer']\n",
    "code_block=None;\n",
    "\n",
    "code_blocks = re.findall(r\"<newcode>(.*?)</newcode>\", input_str, re.DOTALL)\n",
    "\n",
    "code_blocks = [code.strip() for code in code_blocks]\n",
    "\n",
    "for index, block in enumerate(code_blocks):\n",
    "    print(f\"Code Block {index + 1}:\")\n",
    "    print(block)\n",
    "    filename = docs[0].metadata['source'].replace('DotNetFramework', 'DotNet'); \n",
    "    if(index>0):\n",
    "        filename = filename.replace('.cs', '_'+index+'.cs'); \n",
    "    # Open the file in write mode ('w') and write the code block to it\n",
    "    with open(filename, 'w') as file:\n",
    "        file.write(block)\n",
    "\n",
    "    if(index>0):\n",
    "        print(\"\\n-----------------\\n\")\n",
    "\n",
    "\n",
    "# Find all <newcode></newcode> blocks\n",
    "matches = list(re.finditer(r\"<newcode>.*?</newcode>\", input_str, re.DOTALL))\n",
    "\n",
    "# Check if there are any matches\n",
    "if matches:\n",
    "    # Take the end index of the last match\n",
    "    last_match_end = matches[-1].end()\n",
    "    # Extract the remaining part of the response after the last </newcode>\n",
    "    replaced_features = input_str[last_match_end:].strip()\n",
    "else:\n",
    "    replaced_features = \"No replaced features section found.\"\n",
    "\n",
    "# print(replaced_features)\n",
    "\n",
    "\n",
    "display(Markdown(replaced_features))\n"
   ]
  }
 ],
 "metadata": {
  "kernelspec": {
   "display_name": "myenv",
   "language": "python",
   "name": "python3"
  },
  "language_info": {
   "codemirror_mode": {
    "name": "ipython",
    "version": 3
   },
   "file_extension": ".py",
   "mimetype": "text/x-python",
   "name": "python",
   "nbconvert_exporter": "python",
   "pygments_lexer": "ipython3",
   "version": "3.12.3"
  }
 },
 "nbformat": 4,
 "nbformat_minor": 2
}
