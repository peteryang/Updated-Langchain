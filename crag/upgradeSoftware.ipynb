{
 "cells": [
  {
   "cell_type": "code",
   "execution_count": 35,
   "metadata": {},
   "outputs": [
    {
     "name": "stderr",
     "output_type": "stream",
     "text": [
      "Python-dotenv could not parse statement starting at line 1\n",
      "Python-dotenv could not parse statement starting at line 7\n"
     ]
    }
   ],
   "source": [
    "import os\n",
    "from dotenv import load_dotenv\n",
    "\n",
    "load_dotenv()\n",
    "\n",
    "os.environ[\"OPENAI_API_KEY\"]=os.getenv(\"OPENAI_API_KEY\")\n",
    "## Langmith tracking\n",
    "os.environ[\"LANGCHAIN_TRACING_V2\"]=\"true\"\n",
    "os.environ[\"LANGCHAIN_API_KEY\"]=os.getenv(\"LANGCHAIN_API_KEY\")"
   ]
  },
  {
   "cell_type": "code",
   "execution_count": 36,
   "metadata": {},
   "outputs": [],
   "source": [
    "import warnings\n",
    "\n",
    "warnings.filterwarnings(\"ignore\")\n",
    "from pprint import pprint\n",
    "\n",
    "from langchain_community.document_loaders.generic import GenericLoader\n",
    "from langchain_community.document_loaders.parsers import LanguageParser\n",
    "from langchain_text_splitters import Language\n"
   ]
  },
  {
   "cell_type": "code",
   "execution_count": 37,
   "metadata": {},
   "outputs": [],
   "source": [
    "loader = GenericLoader.from_filesystem(\n",
    "    \"./DotNetFramework/\",\n",
    "    glob=\"*\",\n",
    "    suffixes=[\".cs\"],\n",
    "    parser=LanguageParser(language=Language.CSHARP, parser_threshold=1000),    \n",
    ")\n",
    "docs = loader.load()"
   ]
  },
  {
   "cell_type": "code",
   "execution_count": 38,
   "metadata": {},
   "outputs": [
    {
     "data": {
      "text/plain": [
       "'DotNetFramework/CustomWebControl.cs'"
      ]
     },
     "execution_count": 38,
     "metadata": {},
     "output_type": "execute_result"
    }
   ],
   "source": [
    "docs[0].metadata['source']"
   ]
  },
  {
   "cell_type": "code",
   "execution_count": 39,
   "metadata": {},
   "outputs": [],
   "source": [
    "from langchain.text_splitter import RecursiveCharacterTextSplitter\n",
    "\n",
    "code_splitter = RecursiveCharacterTextSplitter.from_language(\n",
    "    language=Language.CSHARP, chunk_size=1000, chunk_overlap=0\n",
    ")\n",
    "documents = code_splitter.split_documents(docs)\n",
    "\n"
   ]
  },
  {
   "cell_type": "code",
   "execution_count": 40,
   "metadata": {},
   "outputs": [
    {
     "data": {
      "text/plain": [
       "3"
      ]
     },
     "execution_count": 40,
     "metadata": {},
     "output_type": "execute_result"
    }
   ],
   "source": [
    "len(documents)"
   ]
  },
  {
   "cell_type": "code",
   "execution_count": 41,
   "metadata": {},
   "outputs": [],
   "source": [
    "## FAISS Vector Database\n",
    "from langchain_openai import OpenAIEmbeddings\n",
    "# from langchain_community.vectorstores import OllamaEmbeddings\n",
    "from langchain_community.vectorstores import FAISS\n",
    "\n",
    "db = FAISS.from_documents(documents, OpenAIEmbeddings())"
   ]
  },
  {
   "cell_type": "code",
   "execution_count": 42,
   "metadata": {},
   "outputs": [],
   "source": [
    "# from langchain_community.llms import Ollama\n",
    "# llm=Ollama(model=\"llama2\")\n",
    "\n",
    "from langchain_openai import ChatOpenAI\n",
    "# llm=ChatOpenAI(model=\"gpt-3.5-turbo\")\n",
    "llm=ChatOpenAI(model=\"gpt-4-turbo\")\n"
   ]
  },
  {
   "cell_type": "code",
   "execution_count": 43,
   "metadata": {},
   "outputs": [],
   "source": [
    "# ## Design ChatPrompt Template\n",
    "# from langchain_core.prompts import ChatPromptTemplate\n",
    "\n",
    "# prompt=ChatPromptTemplate.from_messages(\n",
    "#     [\n",
    "#         (\"system\",\"Hi ChatGPT, we are going to rewrite some old C# code which is based on .NET Framework. please rewrite the piece of code with .NET 5/6+ or ASP.NET Core.\"),\n",
    "#         (\"user\",\"old code:{oldcode}\")\n",
    "#     ]\n",
    "# )\n",
    "\n",
    "\n",
    "\n",
    "## Design ChatPrompt Template\n",
    "from langchain_core.prompts import ChatPromptTemplate\n",
    "prompt = ChatPromptTemplate.from_template(\"\"\"\n",
    "Hi ChatGPT, we are going to rewrite some old C# code which is based on .NET Framework. \n",
    "Please follow below instructions to design your new code:\n",
    "(1) New Code should be based on .NET 8+ or ASP.NET Core. \n",
    "(2) Outmost namespace is AspNetCoreApp                                          \n",
    "(3) Generate the Startup.cs file also\n",
    "(4) Use Razor Pages page-based programming model to build web UI\n",
    "(5) Use standard angle brackets (< and >) for generic types, don't use the HTML-encoded versions (&lt; and &gt;)    \n",
    "                                                                       \n",
    "Please follow below instructions to output response:\n",
    "(1)Please use xml tag <description></description> to contain all your description; and use xml tag <NewCode><file name=\"xxxx\"></file><file name=\"yyyy\"></file>...</NewCode> to wrap source code files generated.\n",
    "(2)The content within <file name=\"xxxx\"></file> is valid C# code.\n",
    "                                          \n",
    "In addition, basedon the context provided, please help to identify.Net Framework features replaced. \n",
    "\n",
    "<context>\n",
    "{context}\n",
    "</context>\n",
    "Old Code: {input}\"\"\"\n",
    ")\n"
   ]
  },
  {
   "cell_type": "code",
   "execution_count": 44,
   "metadata": {},
   "outputs": [],
   "source": [
    "## Chain Introduction\n",
    "## Create Stuff Document Chain\n",
    "\n",
    "from langchain.chains.combine_documents import create_stuff_documents_chain\n",
    "\n",
    "document_chain = create_stuff_documents_chain(llm, prompt)"
   ]
  },
  {
   "cell_type": "code",
   "execution_count": 45,
   "metadata": {},
   "outputs": [
    {
     "data": {
      "text/plain": [
       "VectorStoreRetriever(tags=['FAISS', 'OpenAIEmbeddings'], vectorstore=<langchain_community.vectorstores.faiss.FAISS object at 0x7f6dba11f150>)"
      ]
     },
     "execution_count": 45,
     "metadata": {},
     "output_type": "execute_result"
    }
   ],
   "source": [
    "\"\"\"A retriever is an interface that returns documents given an unstructured query. \n",
    "It is more general than a vector store. A retriever does not need to be able to store documents,\n",
    "only to return (or retrieve) them. Vector stores can be used as the backbone of a retriever, \n",
    "but there are other types of retrievers as well.\n",
    "\"\"\"\n",
    "\n",
    "retriever=db.as_retriever()\n",
    "retriever"
   ]
  },
  {
   "cell_type": "code",
   "execution_count": 46,
   "metadata": {},
   "outputs": [],
   "source": [
    "from langchain.chains import create_retrieval_chain\n",
    "\n",
    "retriever_chain  = create_retrieval_chain(retriever, document_chain)"
   ]
  },
  {
   "cell_type": "code",
   "execution_count": 47,
   "metadata": {},
   "outputs": [],
   "source": [
    "# response=retriever_chain.invoke({\"input\": documents[0].page_content})\n",
    "response=retriever_chain.invoke({\"input\": \"\"})"
   ]
  },
  {
   "cell_type": "code",
   "execution_count": 48,
   "metadata": {},
   "outputs": [
    {
     "data": {
      "text/plain": [
       "'<description>\\nThe old code provided illustrates a typical .NET Framework WebForms application and a database query class using ADO.NET. The migration to .NET 8+ or ASP.NET Core involves several changes:\\n\\n1. Replacing WebForms with ASP.NET Core Razor Pages, which uses a page-based programming model similar to WebForms but with improved designs like better separation of concerns and testability.\\n2. Replacing traditional ADO.NET code with Entity Framework Core for database operations, which provides a more robust and developer-friendly data access layer.\\n3. Updating the project structure and configuration approach with a more modern and flexible system (e.g., using `Startup.cs` and dependency injection).\\n\\nThe provided solution will include a `Startup.cs` file and a Razor Page (replacing the WebForms Page and Custom Control), along with a data access class using Entity Framework Core.\\n</description>\\n<NewCode>\\n    <file name=\"Startup.cs\">\\nusing Microsoft.AspNetCore.Builder;\\nusing Microsoft.AspNetCore.Hosting;\\nusing Microsoft.Extensions.DependencyInjection;\\nusing Microsoft.Extensions.Hosting;\\n\\nnamespace AspNetCoreApp\\n{\\n    public class Startup\\n    {\\n        public void ConfigureServices(IServiceCollection services)\\n        {\\n            services.AddRazorPages();\\n        }\\n\\n        public void Configure(IApplicationBuilder app, IWebHostEnvironment env)\\n        {\\n            if (env.IsDevelopment())\\n            {\\n                app.UseDeveloperExceptionPage();\\n            }\\n            else\\n            {\\n                app.UseExceptionHandler(\"/Error\");\\n            }\\n\\n            app.UseStaticFiles();\\n\\n            app.UseRouting();\\n\\n            app.UseAuthorization();\\n\\n            app.UseEndpoints(endpoints =>\\n            {\\n                endpoints.MapRazorPages();\\n            });\\n        }\\n    }\\n}\\n    </file>\\n    <file name=\"Index.cshtml.cs\">\\nusing Microsoft.AspNetCore.Mvc.RazorPages;\\n\\nnamespace AspNetCoreApp.Pages\\n{\\n    public class IndexModel : PageModel\\n    {\\n        public string Message { get; private set; } = \"Hello, this is a custom WebControl for .NET Framework WebForms.\";\\n\\n        public void OnGet()\\n        {\\n            Message = \"Hello, this is a Razor Page in ASP.NET Core.\";\\n        }\\n    }\\n}\\n    </file>\\n    <file name=\"Index.cshtml\">\\n@page\\n@model AspNetCoreApp.Pages.IndexModel\\n\\n<h1>@Model.Message</h1>\\n    </file>\\n    <file name=\"DBManager.cs\">\\nusing Microsoft.EntityFrameworkCore;\\nusing System;\\nusing System.Linq;\\n\\nnamespace AspNetCoreApp\\n{\\n    class DBManager\\n    {\\n        public static void ExecuteTopTenQuery(DbContext context)\\n        {\\n            var items = context.Set<YourEntity>().Take(10).ToList();\\n            foreach (var item in items)\\n            {\\n                Console.WriteLine(item.ToString()); // Adjust to match the properties you\\'re interested in\\n            }\\n        }\\n    }\\n}\\n    </file>\\n</NewCode>'"
      ]
     },
     "execution_count": 48,
     "metadata": {},
     "output_type": "execute_result"
    }
   ],
   "source": [
    "response['answer']"
   ]
  },
  {
   "cell_type": "code",
   "execution_count": 49,
   "metadata": {},
   "outputs": [
    {
     "name": "stdout",
     "output_type": "stream",
     "text": [
      "    <file name=\"Startup.cs\">\n",
      "using Microsoft.AspNetCore.Builder;\n",
      "using Microsoft.AspNetCore.Hosting;\n",
      "using Microsoft.Extensions.DependencyInjection;\n",
      "using Microsoft.Extensions.Hosting;\n",
      "\n",
      "namespace AspNetCoreApp\n",
      "{\n",
      "    public class Startup\n",
      "    {\n",
      "        public void ConfigureServices(IServiceCollection services)\n",
      "        {\n",
      "            services.AddRazorPages();\n",
      "        }\n",
      "\n",
      "        public void Configure(IApplicationBuilder app, IWebHostEnvironment env)\n",
      "        {\n",
      "            if (env.IsDevelopment())\n",
      "            {\n",
      "                app.UseDeveloperExceptionPage();\n",
      "            }\n",
      "            else\n",
      "            {\n",
      "                app.UseExceptionHandler(\"/Error\");\n",
      "            }\n",
      "\n",
      "            app.UseStaticFiles();\n",
      "\n",
      "            app.UseRouting();\n",
      "\n",
      "            app.UseAuthorization();\n",
      "\n",
      "            app.UseEndpoints(endpoints =>\n",
      "            {\n",
      "                endpoints.MapRazorPages();\n",
      "            });\n",
      "        }\n",
      "    }\n",
      "}\n",
      "    </file>\n",
      "    <file name=\"Index.cshtml.cs\">\n",
      "using Microsoft.AspNetCore.Mvc.RazorPages;\n",
      "\n",
      "namespace AspNetCoreApp.Pages\n",
      "{\n",
      "    public class IndexModel : PageModel\n",
      "    {\n",
      "        public string Message { get; private set; } = \"Hello, this is a custom WebControl for .NET Framework WebForms.\";\n",
      "\n",
      "        public void OnGet()\n",
      "        {\n",
      "            Message = \"Hello, this is a Razor Page in ASP.NET Core.\";\n",
      "        }\n",
      "    }\n",
      "}\n",
      "    </file>\n",
      "    <file name=\"Index.cshtml\">\n",
      "@page\n",
      "@model AspNetCoreApp.Pages.IndexModel\n",
      "\n",
      "<h1>@Model.Message</h1>\n",
      "    </file>\n",
      "    <file name=\"DBManager.cs\">\n",
      "using Microsoft.EntityFrameworkCore;\n",
      "using System;\n",
      "using System.Linq;\n",
      "\n",
      "namespace AspNetCoreApp\n",
      "{\n",
      "    class DBManager\n",
      "    {\n",
      "        public static void ExecuteTopTenQuery(DbContext context)\n",
      "        {\n",
      "            var items = context.Set<YourEntity>().Take(10).ToList();\n",
      "            foreach (var item in items)\n",
      "            {\n",
      "                Console.WriteLine(item.ToString()); // Adjust to match the properties you're interested in\n",
      "            }\n",
      "        }\n",
      "    }\n",
      "}\n",
      "    </file>\n"
     ]
    },
    {
     "data": {
      "text/markdown": [
       "The old code provided illustrates a typical .NET Framework WebForms application and a database query class using ADO.NET. The migration to .NET 8+ or ASP.NET Core involves several changes:\n",
       "\n",
       "1. Replacing WebForms with ASP.NET Core Razor Pages, which uses a page-based programming model similar to WebForms but with improved designs like better separation of concerns and testability.\n",
       "2. Replacing traditional ADO.NET code with Entity Framework Core for database operations, which provides a more robust and developer-friendly data access layer.\n",
       "3. Updating the project structure and configuration approach with a more modern and flexible system (e.g., using `Startup.cs` and dependency injection).\n",
       "\n",
       "The provided solution will include a `Startup.cs` file and a Razor Page (replacing the WebForms Page and Custom Control), along with a data access class using Entity Framework Core."
      ],
      "text/plain": [
       "<IPython.core.display.Markdown object>"
      ]
     },
     "metadata": {},
     "output_type": "display_data"
    }
   ],
   "source": [
    "import re\n",
    "from IPython.display import display, Markdown\n",
    "\n",
    "# Your input string\n",
    "input_string = response['answer']\n",
    "\n",
    "\n",
    "\n",
    "code_match = re.search(r'<NewCode>\\n(.*?)\\n</NewCode>', input_string, re.DOTALL)\n",
    "description_match = re.search(r'<description>\\n(.*?)\\n</description>', input_string, re.DOTALL)\n",
    "\n",
    "# Extracted code and description\n",
    "code = code_match.group(1) if code_match else None\n",
    "description = description_match.group(1) if description_match else None\n",
    "\n",
    "print(code)\n",
    "\n",
    "\n",
    "display(Markdown(description))\n",
    "\n"
   ]
  },
  {
   "cell_type": "code",
   "execution_count": 50,
   "metadata": {},
   "outputs": [
    {
     "name": "stdout",
     "output_type": "stream",
     "text": [
      "File saved: Startup.cs\n",
      "File saved: Index.cshtml.cs\n",
      "File saved: Index.cshtml\n",
      "File saved: DBManager.cs\n"
     ]
    }
   ],
   "source": [
    "pattern = re.compile(r'<file name=\"(.+?)\">(.*?)</file>', re.DOTALL)\n",
    "\n",
    "# Finding all matches\n",
    "matches = pattern.findall(code)\n",
    "\n",
    "# Loop through matches and write to files\n",
    "for file_name, file_content in matches:\n",
    "    # Strip leading and trailing whitespaces from the content\n",
    "    file_content = file_content.strip()\n",
    "    # Open the file in write mode and write the content\n",
    "    with open(\"./DotNet/\"+file_name, 'w') as file:\n",
    "        file.write(file_content)\n",
    "    print(f\"File saved: {file_name}\")"
   ]
  }
 ],
 "metadata": {
  "kernelspec": {
   "display_name": "myenv",
   "language": "python",
   "name": "python3"
  },
  "language_info": {
   "codemirror_mode": {
    "name": "ipython",
    "version": 3
   },
   "file_extension": ".py",
   "mimetype": "text/x-python",
   "name": "python",
   "nbconvert_exporter": "python",
   "pygments_lexer": "ipython3",
   "version": "3.11.9"
  }
 },
 "nbformat": 4,
 "nbformat_minor": 2
}
