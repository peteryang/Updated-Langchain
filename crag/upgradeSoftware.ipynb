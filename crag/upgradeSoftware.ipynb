{
 "cells": [
  {
   "cell_type": "code",
   "execution_count": 11,
   "metadata": {},
   "outputs": [
    {
     "name": "stderr",
     "output_type": "stream",
     "text": [
      "Python-dotenv could not parse statement starting at line 1\n",
      "Python-dotenv could not parse statement starting at line 7\n"
     ]
    }
   ],
   "source": [
    "import os\n",
    "from dotenv import load_dotenv\n",
    "\n",
    "load_dotenv()\n",
    "\n",
    "os.environ[\"OPENAI_API_KEY\"]=os.getenv(\"OPENAI_API_KEY\")\n",
    "## Langmith tracking\n",
    "os.environ[\"LANGCHAIN_TRACING_V2\"]=\"true\"\n",
    "os.environ[\"LANGCHAIN_API_KEY\"]=os.getenv(\"LANGCHAIN_API_KEY\")"
   ]
  },
  {
   "cell_type": "code",
   "execution_count": 12,
   "metadata": {},
   "outputs": [],
   "source": [
    "import warnings\n",
    "\n",
    "warnings.filterwarnings(\"ignore\")\n",
    "from pprint import pprint\n",
    "\n",
    "from langchain_community.document_loaders.generic import GenericLoader\n",
    "from langchain_community.document_loaders.parsers import LanguageParser\n",
    "from langchain_text_splitters import Language\n"
   ]
  },
  {
   "cell_type": "code",
   "execution_count": 13,
   "metadata": {},
   "outputs": [],
   "source": [
    "loader = GenericLoader.from_filesystem(\n",
    "    \"./DotNetFramework/\",\n",
    "    glob=\"*\",\n",
    "    suffixes=[\".cs\"],\n",
    "    parser=LanguageParser(language=Language.CSHARP, parser_threshold=1000),    \n",
    ")\n",
    "docs = loader.load()"
   ]
  },
  {
   "cell_type": "code",
   "execution_count": 14,
   "metadata": {},
   "outputs": [
    {
     "data": {
      "text/plain": [
       "'DotNetFramework/file1.cs'"
      ]
     },
     "execution_count": 14,
     "metadata": {},
     "output_type": "execute_result"
    }
   ],
   "source": [
    "docs[0].metadata['source']"
   ]
  },
  {
   "cell_type": "code",
   "execution_count": 15,
   "metadata": {},
   "outputs": [],
   "source": [
    "from langchain.text_splitter import RecursiveCharacterTextSplitter\n",
    "\n",
    "code_splitter = RecursiveCharacterTextSplitter.from_language(\n",
    "    language=Language.CSHARP, chunk_size=1000, chunk_overlap=0\n",
    ")\n",
    "documents = code_splitter.split_documents(docs)\n",
    "\n"
   ]
  },
  {
   "cell_type": "code",
   "execution_count": 16,
   "metadata": {},
   "outputs": [
    {
     "data": {
      "text/plain": [
       "'using System;\\nusing System.Web.UI;\\nusing System.Web.UI.WebControls;\\n\\nnamespace WebFormsApp\\n{\\n    public class CustomWebControl : WebControl\\n    {\\n        protected override void RenderContents(HtmlTextWriter writer)\\n        {\\n            writer.Write(\"Hello, this is a custom WebControl for .NET Framework WebForms.\");\\n        }\\n    }\\n\\n    public partial class WebForm1 : Page\\n    {\\n        protected void Page_Load(object sender, EventArgs e)\\n        {\\n            CustomWebControl myControl = new CustomWebControl();\\n            myControl.ID = \"MyCustomControl\";\\n            this.form1.Controls.Add(myControl);\\n        }\\n    }\\n}'"
      ]
     },
     "execution_count": 16,
     "metadata": {},
     "output_type": "execute_result"
    }
   ],
   "source": [
    "documents[0].page_content"
   ]
  },
  {
   "cell_type": "code",
   "execution_count": 17,
   "metadata": {},
   "outputs": [],
   "source": [
    "## FAISS Vector Database\n",
    "from langchain_openai import OpenAIEmbeddings\n",
    "# from langchain_community.vectorstores import OllamaEmbeddings\n",
    "from langchain_community.vectorstores import FAISS\n",
    "\n",
    "db = FAISS.from_documents(documents, OpenAIEmbeddings())"
   ]
  },
  {
   "cell_type": "code",
   "execution_count": 18,
   "metadata": {},
   "outputs": [],
   "source": [
    "# from langchain_community.llms import Ollama\n",
    "# llm=Ollama(model=\"llama2\")\n",
    "\n",
    "from langchain_openai import ChatOpenAI\n",
    "# llm=ChatOpenAI(model=\"gpt-3.5-turbo\")\n",
    "llm=ChatOpenAI(model=\"gpt-4-turbo\")\n"
   ]
  },
  {
   "cell_type": "code",
   "execution_count": 19,
   "metadata": {},
   "outputs": [],
   "source": [
    "# ## Design ChatPrompt Template\n",
    "# from langchain_core.prompts import ChatPromptTemplate\n",
    "\n",
    "# prompt=ChatPromptTemplate.from_messages(\n",
    "#     [\n",
    "#         (\"system\",\"Hi ChatGPT, we are going to rewrite some old C# code which is based on .NET Framework. please rewrite the piece of code with .NET 5/6+ or ASP.NET Core.\"),\n",
    "#         (\"user\",\"old code:{oldcode}\")\n",
    "#     ]\n",
    "# )\n",
    "\n",
    "\n",
    "\n",
    "## Design ChatPrompt Template\n",
    "from langchain_core.prompts import ChatPromptTemplate\n",
    "prompt = ChatPromptTemplate.from_template(\"\"\"\n",
    "Hi ChatGPT, we are going to rewrite some old C# code which is based on .NET Framework. please rewrite the piece of code with .NET 6+ or ASP.NET Core. \n",
    "In addition, basedon the context provided, please help to identify.Net Framework features replaced. \n",
    "Please use xml tag <description></description> to contain all your description; and use xml tag <NewCode><file name=\"xxxx\"></file><file name=\"yyyy\"></file>...</NewCode> to wrap source code files generated.\n",
    "<context>\n",
    "{context}\n",
    "</context>\n",
    "Old Code: {input}\"\"\"\n",
    ")\n"
   ]
  },
  {
   "cell_type": "code",
   "execution_count": null,
   "metadata": {},
   "outputs": [],
   "source": [
    "## Chain Introduction\n",
    "## Create Stuff Document Chain\n",
    "\n",
    "from langchain.chains.combine_documents import create_stuff_documents_chain\n",
    "\n",
    "document_chain = create_stuff_documents_chain(llm, prompt)"
   ]
  },
  {
   "cell_type": "code",
   "execution_count": 20,
   "metadata": {},
   "outputs": [
    {
     "data": {
      "text/plain": [
       "VectorStoreRetriever(tags=['FAISS', 'OpenAIEmbeddings'], vectorstore=<langchain_community.vectorstores.faiss.FAISS object at 0x7f84718bebd0>)"
      ]
     },
     "execution_count": 20,
     "metadata": {},
     "output_type": "execute_result"
    }
   ],
   "source": [
    "\"\"\"A retriever is an interface that returns documents given an unstructured query. \n",
    "It is more general than a vector store. A retriever does not need to be able to store documents,\n",
    "only to return (or retrieve) them. Vector stores can be used as the backbone of a retriever, \n",
    "but there are other types of retrievers as well.\n",
    "\"\"\"\n",
    "\n",
    "retriever=db.as_retriever()\n",
    "retriever"
   ]
  },
  {
   "cell_type": "code",
   "execution_count": 21,
   "metadata": {},
   "outputs": [],
   "source": [
    "from langchain.chains import create_retrieval_chain\n",
    "\n",
    "retriever_chain  = create_retrieval_chain(retriever, document_chain)"
   ]
  },
  {
   "cell_type": "code",
   "execution_count": 22,
   "metadata": {},
   "outputs": [],
   "source": [
    "response=retriever_chain.invoke({\"input\": documents[0].page_content})"
   ]
  },
  {
   "cell_type": "code",
   "execution_count": 23,
   "metadata": {},
   "outputs": [
    {
     "data": {
      "text/plain": [
       "'<description>\\nThe provided code snippet is based on ASP.NET Web Forms, a framework part of the older .NET Framework used for building dynamic web applications. In .NET 5/6 and later versions, ASP.NET Core is used instead, which does not support Web Forms. Thus, the Web Forms code needs to be rewritten using ASP.NET Core MVC or Razor Pages, which are the recommended approaches for web UI in .NET Core and beyond.\\n\\nKey changes include:\\n1. The `WebControl` class and `HtmlTextWriter` are specific to Web Forms and have no direct equivalents in ASP.NET Core. Instead, components are typically built using Razor views or Tag Helpers.\\n2. Event-driven model of Web Forms (like `Page_Load`) is replaced by the MVC (Model-View-Controller) or Razor Pages pattern in ASP.NET Core, which separates concerns and improves testability and modularity.\\n\\nFor demonstration, I\\'ll rewrite the example using ASP.NET Core MVC with a simple view component that serves a similar purpose as the original `CustomWebControl`.\\n</description>\\n\\n<NewCode>\\n<file name=\"CustomWebControlViewComponent.cs\">\\nusing Microsoft.AspNetCore.Mvc;\\n\\nnamespace AspNetCoreApp\\n{\\n    public class CustomWebControlViewComponent : ViewComponent\\n    {\\n        public IViewComponentResult Invoke()\\n        {\\n            return Content(\"Hello, this is a custom WebControl for ASP.NET Core.\");\\n        }\\n    }\\n}\\n</file>\\n<file name=\"HomeController.cs\">\\nusing Microsoft.AspNetCore.Mvc;\\n\\nnamespace AspNetCoreApp.Controllers\\n{\\n    public class HomeController : Controller\\n    {\\n        public IActionResult Index()\\n        {\\n            return View();\\n        }\\n    }\\n}\\n</file>\\n<file name=\"Index.cshtml\">\\n@{\\n    ViewData[\"Title\"] = \"Home Page\";\\n}\\n\\n<div>\\n    @Component.InvokeAsync(\"CustomWebControl\")\\n</div>\\n</file>\\n<file name=\"Startup.cs\">\\nusing Microsoft.AspNetCore.Builder;\\nusing Microsoft.AspNetCore.Hosting;\\nusing Microsoft.Extensions.DependencyInjection;\\nusing Microsoft.Extensions.Hosting;\\n\\nnamespace AspNetCoreApp\\n{\\n    public class Startup\\n    {\\n        public void ConfigureServices(IServiceCollection services)\\n        {\\n            services.AddControllersWithViews();\\n        }\\n\\n        public void Configure(IApplicationBuilder app, IWebHostEnvironment env)\\n        {\\n            if (env.IsDevelopment())\\n            {\\n                app.UseDeveloperExceptionPage();\\n            }\\n            else\\n            {\\n                app.UseExceptionHandler(\"/Home/Error\");\\n            }\\n\\n            app.UseStaticFiles();\\n\\n            app.UseRouting();\\n\\n            app.UseAuthorization();\\n\\n            app.UseEndpoints(endpoints =>\\n            {\\n                endpoints.MapControllerRoute(\\n                    name: \"default\",\\n                    pattern: \"{controller=Home}/{action=Index}/{id?}\");\\n            });\\n        }\\n    }\\n}\\n</file>\\n</NewCode>'"
      ]
     },
     "execution_count": 23,
     "metadata": {},
     "output_type": "execute_result"
    }
   ],
   "source": [
    "response['answer']"
   ]
  },
  {
   "cell_type": "code",
   "execution_count": 24,
   "metadata": {},
   "outputs": [
    {
     "name": "stdout",
     "output_type": "stream",
     "text": [
      "<file name=\"CustomWebControlViewComponent.cs\">\n",
      "using Microsoft.AspNetCore.Mvc;\n",
      "\n",
      "namespace AspNetCoreApp\n",
      "{\n",
      "    public class CustomWebControlViewComponent : ViewComponent\n",
      "    {\n",
      "        public IViewComponentResult Invoke()\n",
      "        {\n",
      "            return Content(\"Hello, this is a custom WebControl for ASP.NET Core.\");\n",
      "        }\n",
      "    }\n",
      "}\n",
      "</file>\n",
      "<file name=\"HomeController.cs\">\n",
      "using Microsoft.AspNetCore.Mvc;\n",
      "\n",
      "namespace AspNetCoreApp.Controllers\n",
      "{\n",
      "    public class HomeController : Controller\n",
      "    {\n",
      "        public IActionResult Index()\n",
      "        {\n",
      "            return View();\n",
      "        }\n",
      "    }\n",
      "}\n",
      "</file>\n",
      "<file name=\"Index.cshtml\">\n",
      "@{\n",
      "    ViewData[\"Title\"] = \"Home Page\";\n",
      "}\n",
      "\n",
      "<div>\n",
      "    @Component.InvokeAsync(\"CustomWebControl\")\n",
      "</div>\n",
      "</file>\n",
      "<file name=\"Startup.cs\">\n",
      "using Microsoft.AspNetCore.Builder;\n",
      "using Microsoft.AspNetCore.Hosting;\n",
      "using Microsoft.Extensions.DependencyInjection;\n",
      "using Microsoft.Extensions.Hosting;\n",
      "\n",
      "namespace AspNetCoreApp\n",
      "{\n",
      "    public class Startup\n",
      "    {\n",
      "        public void ConfigureServices(IServiceCollection services)\n",
      "        {\n",
      "            services.AddControllersWithViews();\n",
      "        }\n",
      "\n",
      "        public void Configure(IApplicationBuilder app, IWebHostEnvironment env)\n",
      "        {\n",
      "            if (env.IsDevelopment())\n",
      "            {\n",
      "                app.UseDeveloperExceptionPage();\n",
      "            }\n",
      "            else\n",
      "            {\n",
      "                app.UseExceptionHandler(\"/Home/Error\");\n",
      "            }\n",
      "\n",
      "            app.UseStaticFiles();\n",
      "\n",
      "            app.UseRouting();\n",
      "\n",
      "            app.UseAuthorization();\n",
      "\n",
      "            app.UseEndpoints(endpoints =>\n",
      "            {\n",
      "                endpoints.MapControllerRoute(\n",
      "                    name: \"default\",\n",
      "                    pattern: \"{controller=Home}/{action=Index}/{id?}\");\n",
      "            });\n",
      "        }\n",
      "    }\n",
      "}\n",
      "</file>\n"
     ]
    },
    {
     "data": {
      "text/markdown": [
       "The provided code snippet is based on ASP.NET Web Forms, a framework part of the older .NET Framework used for building dynamic web applications. In .NET 5/6 and later versions, ASP.NET Core is used instead, which does not support Web Forms. Thus, the Web Forms code needs to be rewritten using ASP.NET Core MVC or Razor Pages, which are the recommended approaches for web UI in .NET Core and beyond.\n",
       "\n",
       "Key changes include:\n",
       "1. The `WebControl` class and `HtmlTextWriter` are specific to Web Forms and have no direct equivalents in ASP.NET Core. Instead, components are typically built using Razor views or Tag Helpers.\n",
       "2. Event-driven model of Web Forms (like `Page_Load`) is replaced by the MVC (Model-View-Controller) or Razor Pages pattern in ASP.NET Core, which separates concerns and improves testability and modularity.\n",
       "\n",
       "For demonstration, I'll rewrite the example using ASP.NET Core MVC with a simple view component that serves a similar purpose as the original `CustomWebControl`."
      ],
      "text/plain": [
       "<IPython.core.display.Markdown object>"
      ]
     },
     "metadata": {},
     "output_type": "display_data"
    }
   ],
   "source": [
    "import re\n",
    "from IPython.display import display, Markdown\n",
    "\n",
    "# Your input string\n",
    "input_string = response['answer']\n",
    "\n",
    "\n",
    "\n",
    "code_match = re.search(r'<NewCode>\\n(.*?)\\n</NewCode>', input_string, re.DOTALL)\n",
    "description_match = re.search(r'<description>\\n(.*?)\\n</description>', input_string, re.DOTALL)\n",
    "\n",
    "# Extracted code and description\n",
    "code = code_match.group(1) if code_match else None\n",
    "description = description_match.group(1) if description_match else None\n",
    "\n",
    "print(code)\n",
    "\n",
    "\n",
    "display(Markdown(description))\n",
    "\n"
   ]
  },
  {
   "cell_type": "code",
   "execution_count": 25,
   "metadata": {},
   "outputs": [
    {
     "name": "stdout",
     "output_type": "stream",
     "text": [
      "File saved: CustomWebControlViewComponent.cs\n",
      "File saved: HomeController.cs\n",
      "File saved: Index.cshtml\n",
      "File saved: Startup.cs\n"
     ]
    }
   ],
   "source": [
    "pattern = re.compile(r'<file name=\"(.+?)\">(.*?)</file>', re.DOTALL)\n",
    "\n",
    "# Finding all matches\n",
    "matches = pattern.findall(code)\n",
    "\n",
    "# Loop through matches and write to files\n",
    "for file_name, file_content in matches:\n",
    "    # Strip leading and trailing whitespaces from the content\n",
    "    file_content = file_content.strip()\n",
    "    # Open the file in write mode and write the content\n",
    "    with open(\"./DotNet/\"+file_name, 'w') as file:\n",
    "        file.write(file_content)\n",
    "    print(f\"File saved: {file_name}\")"
   ]
  }
 ],
 "metadata": {
  "kernelspec": {
   "display_name": "myenv",
   "language": "python",
   "name": "python3"
  },
  "language_info": {
   "codemirror_mode": {
    "name": "ipython",
    "version": 3
   },
   "file_extension": ".py",
   "mimetype": "text/x-python",
   "name": "python",
   "nbconvert_exporter": "python",
   "pygments_lexer": "ipython3",
   "version": "3.11.9"
  }
 },
 "nbformat": 4,
 "nbformat_minor": 2
}
