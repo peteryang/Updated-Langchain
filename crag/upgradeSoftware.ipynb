{
 "cells": [
  {
   "cell_type": "code",
   "execution_count": 161,
   "metadata": {},
   "outputs": [
    {
     "name": "stderr",
     "output_type": "stream",
     "text": [
      "Python-dotenv could not parse statement starting at line 1\n",
      "Python-dotenv could not parse statement starting at line 7\n"
     ]
    }
   ],
   "source": [
    "import os\n",
    "from dotenv import load_dotenv\n",
    "\n",
    "load_dotenv()\n",
    "\n",
    "os.environ[\"OPENAI_API_KEY\"]=os.getenv(\"OPENAI_API_KEY\")\n",
    "## Langmith tracking\n",
    "os.environ[\"LANGCHAIN_TRACING_V2\"]=\"true\"\n",
    "os.environ[\"LANGCHAIN_API_KEY\"]=os.getenv(\"LANGCHAIN_API_KEY\")"
   ]
  },
  {
   "cell_type": "code",
   "execution_count": 162,
   "metadata": {},
   "outputs": [],
   "source": [
    "import warnings\n",
    "\n",
    "warnings.filterwarnings(\"ignore\")\n",
    "from pprint import pprint\n",
    "\n",
    "from langchain_community.document_loaders.generic import GenericLoader\n",
    "from langchain_community.document_loaders.parsers import LanguageParser\n",
    "from langchain_text_splitters import Language\n"
   ]
  },
  {
   "cell_type": "code",
   "execution_count": 163,
   "metadata": {},
   "outputs": [],
   "source": [
    "loader = GenericLoader.from_filesystem(\n",
    "    \"./DotNetFramework/\",\n",
    "    glob=\"*\",\n",
    "    suffixes=[\".cs\"],\n",
    "    parser=LanguageParser(language=Language.CSHARP, parser_threshold=1000),    \n",
    ")\n",
    "docs = loader.load()"
   ]
  },
  {
   "cell_type": "code",
   "execution_count": 164,
   "metadata": {},
   "outputs": [
    {
     "data": {
      "text/plain": [
       "'DotNetFramework/CustomWebControl.cs'"
      ]
     },
     "execution_count": 164,
     "metadata": {},
     "output_type": "execute_result"
    }
   ],
   "source": [
    "docs[0].metadata['source']"
   ]
  },
  {
   "cell_type": "code",
   "execution_count": 165,
   "metadata": {},
   "outputs": [],
   "source": [
    "from langchain.text_splitter import RecursiveCharacterTextSplitter\n",
    "\n",
    "code_splitter = RecursiveCharacterTextSplitter.from_language(\n",
    "    language=Language.CSHARP, chunk_size=1000, chunk_overlap=0\n",
    ")\n",
    "documents = code_splitter.split_documents(docs)\n",
    "\n"
   ]
  },
  {
   "cell_type": "code",
   "execution_count": 166,
   "metadata": {},
   "outputs": [
    {
     "data": {
      "text/plain": [
       "[Document(page_content='using System;\\nusing System.Web.UI;\\nusing System.Web.UI.WebControls;\\n\\nnamespace WebFormsApp\\n{\\n    public class CustomWebControl : WebControl\\n    {\\n        protected override void RenderContents(HtmlTextWriter writer)\\n        {\\n            writer.Write(\"Hello, this is a custom WebControl for .NET Framework WebForms.\");\\n        }\\n    }\\n\\n    public partial class WebForm1 : Page\\n    {\\n        protected void Page_Load(object sender, EventArgs e)\\n        {\\n            CustomWebControl myControl = new CustomWebControl();\\n            myControl.ID = \"MyCustomControl\";\\n            this.form1.Controls.Add(myControl);\\n        }\\n    }\\n}', metadata={'source': 'DotNetFramework/CustomWebControl.cs', 'language': <Language.CSHARP: 'csharp'>}),\n",
       " Document(page_content='using System;\\nusing System.Data.SqlClient;\\n\\n\\n    class DBManager\\n    {\\n        public static void ExecuteTopTenQuery()\\n        {\\n            string connectionString = \"Data Source=ServerName;Initial Catalog=DatabaseName;Integrated Security=True\";\\n            string query = \"SELECT TOP 10 * FROM YourTable\";', metadata={'source': 'DotNetFramework/DBManager.cs', 'language': <Language.CSHARP: 'csharp'>}),\n",
       " Document(page_content=\"using (SqlConnection connection = new SqlConnection(connectionString))\\n            {\\n                SqlCommand command = new SqlCommand(query, connection);\\n                try\\n                {\\n                    connection.Open();\\n                    using (SqlDataReader reader = command.ExecuteReader())\\n                    {\\n                        while (reader.Read())\\n                        {\\n                            Console.WriteLine(reader[0].ToString()); // Adjust the index to match the column you're interested in\\n                        }\\n                    }\\n                }\\n                catch (Exception ex)\\n                {\\n                    Console.WriteLine(ex.Message);\\n                }\\n            }\\n        }\\n    }\", metadata={'source': 'DotNetFramework/DBManager.cs', 'language': <Language.CSHARP: 'csharp'>})]"
      ]
     },
     "execution_count": 166,
     "metadata": {},
     "output_type": "execute_result"
    }
   ],
   "source": [
    "documents"
   ]
  },
  {
   "cell_type": "code",
   "execution_count": 167,
   "metadata": {},
   "outputs": [],
   "source": [
    "## FAISS Vector Database\n",
    "from langchain_openai import OpenAIEmbeddings\n",
    "# from langchain_community.vectorstores import OllamaEmbeddings\n",
    "from langchain_community.vectorstores import FAISS\n",
    "\n",
    "db = FAISS.from_documents(documents, OpenAIEmbeddings())"
   ]
  },
  {
   "cell_type": "code",
   "execution_count": 168,
   "metadata": {},
   "outputs": [],
   "source": [
    "# from langchain_community.llms import Ollama\n",
    "# llm=Ollama(model=\"llama2\")\n",
    "\n",
    "from langchain_openai import ChatOpenAI\n",
    "# llm=ChatOpenAI(model=\"gpt-3.5-turbo\")\n",
    "llm=ChatOpenAI(model=\"gpt-4-turbo\", temperature=0)\n"
   ]
  },
  {
   "cell_type": "code",
   "execution_count": 169,
   "metadata": {},
   "outputs": [],
   "source": [
    "# ## Design ChatPrompt Template\n",
    "# from langchain_core.prompts import ChatPromptTemplate\n",
    "\n",
    "# prompt=ChatPromptTemplate.from_messages(\n",
    "#     [\n",
    "#         (\"system\",\"Hi ChatGPT, we are going to rewrite some old C# code which is based on .NET Framework. please rewrite the piece of code with .NET 5/6+ or ASP.NET Core.\"),\n",
    "#         (\"user\",\"old code:{oldcode}\")\n",
    "#     ]\n",
    "# )\n",
    "\n",
    "\n",
    "\n",
    "## Design ChatPrompt Template\n",
    "from langchain_core.prompts import ChatPromptTemplate\n",
    "prompt = ChatPromptTemplate.from_template(\"\"\"\n",
    "Hi ChatGPT, we are going to rewrite some old C# code which is based on .NET Framework. \n",
    "Please follow below instructions to design your new code:\n",
    "(1) New Code should be based on .NET 8+ or ASP.NET Core. \n",
    "(2) For any new source code file, make sure the file name has some relationship with original file name for constancy by adding subffix (\"Page\" or \"Service\" or \"Controller\") to represent its function. \n",
    "(3) Outmost namespace is AspNetCoreApp                                          \n",
    "(4) Generate the Startup.cs file \n",
    "(5) The generated source code files will be compiled immediately, STOP using HTML-encoding &lt; and &gt; for displaying purpose. Use < and > in the generated code for generic type or HTML tag\n",
    "(6) Use Razor Pages page-based programming model to build web UI. Always create .cshtml and .cshtml.cs file for page implementation \n",
    "(7) For performance reason, if there are SQL query statements, continue use SQL query statement and don't convert to Entity Framework. But make sure the new code is .NET 8+ compatible\n",
    "(8) If a program can run in .NET 8+ envionment without installation of .NET framework, don't change the code.\n",
    "(9) Use Microsoft.Data.SqlClient instead of System.Data.SqlClient\n",
    "\n",
    "\n",
    "Please follow below instructions to output response:\n",
    "(1)Please use xml tag <description></description> to contain all your description; and use xml tag <NewCode><file name=\"xxxx\"></file><file name=\"yyyy\"></file>...</NewCode> to wrap source code files generated.\n",
    "(2)The content within <file name=\"xxxx\"></file> is valid C# code.\n",
    "                                          \n",
    "In addition, basedon the context provided, please help to identify.Net Framework features replaced.\n",
    "Finally, list original files which can run in .NET 8+ environment without installation of .NET framework. \n",
    "\n",
    "<context>\n",
    "{context}\n",
    "</context>\n",
    "Old Code: {input}\"\"\"\n",
    ")\n"
   ]
  },
  {
   "cell_type": "code",
   "execution_count": 170,
   "metadata": {},
   "outputs": [],
   "source": [
    "## Chain Introduction\n",
    "## Create Stuff Document Chain\n",
    "\n",
    "from langchain.chains.combine_documents import create_stuff_documents_chain\n",
    "\n",
    "document_chain = create_stuff_documents_chain(llm, prompt)"
   ]
  },
  {
   "cell_type": "code",
   "execution_count": 171,
   "metadata": {},
   "outputs": [
    {
     "data": {
      "text/plain": [
       "VectorStoreRetriever(tags=['FAISS', 'OpenAIEmbeddings'], vectorstore=<langchain_community.vectorstores.faiss.FAISS object at 0x7f6eb136d710>)"
      ]
     },
     "execution_count": 171,
     "metadata": {},
     "output_type": "execute_result"
    }
   ],
   "source": [
    "\"\"\"A retriever is an interface that returns documents given an unstructured query. \n",
    "It is more general than a vector store. A retriever does not need to be able to store documents,\n",
    "only to return (or retrieve) them. Vector stores can be used as the backbone of a retriever, \n",
    "but there are other types of retrievers as well.\n",
    "\"\"\"\n",
    "\n",
    "retriever=db.as_retriever()\n",
    "retriever"
   ]
  },
  {
   "cell_type": "code",
   "execution_count": 172,
   "metadata": {},
   "outputs": [],
   "source": [
    "from langchain.chains import create_retrieval_chain\n",
    "\n",
    "retriever_chain  = create_retrieval_chain(retriever, document_chain)"
   ]
  },
  {
   "cell_type": "code",
   "execution_count": 173,
   "metadata": {},
   "outputs": [],
   "source": [
    "# response=retriever_chain.invoke({\"input\": documents[0].page_content})\n",
    "response=retriever_chain.invoke({\"input\": \"\"})"
   ]
  },
  {
   "cell_type": "code",
   "execution_count": 174,
   "metadata": {},
   "outputs": [
    {
     "data": {
      "text/plain": [
       "'<description>\\nThe provided context includes two main components from a .NET Framework application: a WebForms component and a database management class. The WebForms component uses System.Web.UI, which is not supported in .NET Core or .NET 8+. Therefore, it needs to be rewritten using ASP.NET Core\\'s Razor Pages model. The database management class uses System.Data.SqlClient, which should be replaced with Microsoft.Data.SqlClient for compatibility with .NET 8+.\\n\\nThe following changes and replacements are necessary:\\n1. Replace WebForms with Razor Pages.\\n2. Replace System.Data.SqlClient with Microsoft.Data.SqlClient for database operations.\\n3. Adapt the code to fit into the ASP.NET Core project structure, including a Startup.cs configuration file.\\n\\nNo original files can run in .NET 8+ without modification since they rely on technologies not supported in .NET Core or .NET 8+ (e.g., WebForms).\\n</description>\\n\\n<NewCode>\\n<file name=\"Startup.cs\">\\nusing Microsoft.AspNetCore.Builder;\\nusing Microsoft.AspNetCore.Hosting;\\nusing Microsoft.Extensions.DependencyInjection;\\nusing Microsoft.Extensions.Hosting;\\n\\nnamespace AspNetCoreApp\\n{\\n    public class Startup\\n    {\\n        public void ConfigureServices(IServiceCollection services)\\n        {\\n            services.AddRazorPages();\\n        }\\n\\n        public void Configure(IApplicationBuilder app, IWebHostEnvironment env)\\n        {\\n            if (env.IsDevelopment())\\n            {\\n                app.UseDeveloperExceptionPage();\\n            }\\n\\n            app.UseStaticFiles();\\n            app.UseRouting();\\n            app.UseAuthorization();\\n\\n            app.UseEndpoints(endpoints =>\\n            {\\n                endpoints.MapRazorPages();\\n            });\\n        }\\n    }\\n}\\n</file>\\n\\n<file name=\"CustomWebControlPage.cshtml\">\\n@page\\n@model AspNetCoreApp.CustomWebControlPageModel\\n<!DOCTYPE html>\\n<html>\\n<head>\\n    <title>Custom Web Control</title>\\n</head>\\n<body>\\n    <h1>Hello, this is a custom WebControl for .NET 8+.</h1>\\n</body>\\n</html>\\n</file>\\n\\n<file name=\"CustomWebControlPage.cshtml.cs\">\\nusing Microsoft.AspNetCore.Mvc.RazorPages;\\n\\nnamespace AspNetCoreApp\\n{\\n    public class CustomWebControlPageModel : PageModel\\n    {\\n        public void OnGet()\\n        {\\n        }\\n    }\\n}\\n</file>\\n\\n<file name=\"DBManagerService.cs\">\\nusing System;\\nusing Microsoft.Data.SqlClient;\\n\\nnamespace AspNetCoreApp\\n{\\n    public static class DBManagerService\\n    {\\n        public static void ExecuteTopTenQuery()\\n        {\\n            string connectionString = \"Data Source=ServerName;Initial Catalog=DatabaseName;Integrated Security=True\";\\n            string query = \"SELECT TOP 10 * FROM YourTable\";\\n\\n            using (SqlConnection connection = new SqlConnection(connectionString))\\n            {\\n                SqlCommand command = new SqlCommand(query, connection);\\n                try\\n                {\\n                    connection.Open();\\n                    using (SqlDataReader reader = command.ExecuteReader())\\n                    {\\n                        while (reader.Read())\\n                        {\\n                            Console.WriteLine(reader[0].ToString()); // Adjust the index to match the column you\\'re interested in\\n                        }\\n                    }\\n                }\\n                catch (Exception ex)\\n                {\\n                    Console.WriteLine(ex.Message);\\n                }\\n            }\\n        }\\n    }\\n}\\n</file>\\n</NewCode>'"
      ]
     },
     "execution_count": 174,
     "metadata": {},
     "output_type": "execute_result"
    }
   ],
   "source": [
    "response['answer']"
   ]
  },
  {
   "cell_type": "code",
   "execution_count": 175,
   "metadata": {},
   "outputs": [
    {
     "data": {
      "text/markdown": [
       "The provided context includes two main components from a .NET Framework application: a WebForms component and a database management class. The WebForms component uses System.Web.UI, which is not supported in .NET Core or .NET 8+. Therefore, it needs to be rewritten using ASP.NET Core's Razor Pages model. The database management class uses System.Data.SqlClient, which should be replaced with Microsoft.Data.SqlClient for compatibility with .NET 8+.\n",
       "\n",
       "The following changes and replacements are necessary:\n",
       "1. Replace WebForms with Razor Pages.\n",
       "2. Replace System.Data.SqlClient with Microsoft.Data.SqlClient for database operations.\n",
       "3. Adapt the code to fit into the ASP.NET Core project structure, including a Startup.cs configuration file.\n",
       "\n",
       "No original files can run in .NET 8+ without modification since they rely on technologies not supported in .NET Core or .NET 8+ (e.g., WebForms)."
      ],
      "text/plain": [
       "<IPython.core.display.Markdown object>"
      ]
     },
     "metadata": {},
     "output_type": "display_data"
    },
    {
     "name": "stdout",
     "output_type": "stream",
     "text": [
      "<file name=\"Startup.cs\">\n",
      "using Microsoft.AspNetCore.Builder;\n",
      "using Microsoft.AspNetCore.Hosting;\n",
      "using Microsoft.Extensions.DependencyInjection;\n",
      "using Microsoft.Extensions.Hosting;\n",
      "\n",
      "namespace AspNetCoreApp\n",
      "{\n",
      "    public class Startup\n",
      "    {\n",
      "        public void ConfigureServices(IServiceCollection services)\n",
      "        {\n",
      "            services.AddRazorPages();\n",
      "        }\n",
      "\n",
      "        public void Configure(IApplicationBuilder app, IWebHostEnvironment env)\n",
      "        {\n",
      "            if (env.IsDevelopment())\n",
      "            {\n",
      "                app.UseDeveloperExceptionPage();\n",
      "            }\n",
      "\n",
      "            app.UseStaticFiles();\n",
      "            app.UseRouting();\n",
      "            app.UseAuthorization();\n",
      "\n",
      "            app.UseEndpoints(endpoints =>\n",
      "            {\n",
      "                endpoints.MapRazorPages();\n",
      "            });\n",
      "        }\n",
      "    }\n",
      "}\n",
      "</file>\n",
      "\n",
      "<file name=\"CustomWebControlPage.cshtml\">\n",
      "@page\n",
      "@model AspNetCoreApp.CustomWebControlPageModel\n",
      "<!DOCTYPE html>\n",
      "<html>\n",
      "<head>\n",
      "    <title>Custom Web Control</title>\n",
      "</head>\n",
      "<body>\n",
      "    <h1>Hello, this is a custom WebControl for .NET 8+.</h1>\n",
      "</body>\n",
      "</html>\n",
      "</file>\n",
      "\n",
      "<file name=\"CustomWebControlPage.cshtml.cs\">\n",
      "using Microsoft.AspNetCore.Mvc.RazorPages;\n",
      "\n",
      "namespace AspNetCoreApp\n",
      "{\n",
      "    public class CustomWebControlPageModel : PageModel\n",
      "    {\n",
      "        public void OnGet()\n",
      "        {\n",
      "        }\n",
      "    }\n",
      "}\n",
      "</file>\n",
      "\n",
      "<file name=\"DBManagerService.cs\">\n",
      "using System;\n",
      "using Microsoft.Data.SqlClient;\n",
      "\n",
      "namespace AspNetCoreApp\n",
      "{\n",
      "    public static class DBManagerService\n",
      "    {\n",
      "        public static void ExecuteTopTenQuery()\n",
      "        {\n",
      "            string connectionString = \"Data Source=ServerName;Initial Catalog=DatabaseName;Integrated Security=True\";\n",
      "            string query = \"SELECT TOP 10 * FROM YourTable\";\n",
      "\n",
      "            using (SqlConnection connection = new SqlConnection(connectionString))\n",
      "            {\n",
      "                SqlCommand command = new SqlCommand(query, connection);\n",
      "                try\n",
      "                {\n",
      "                    connection.Open();\n",
      "                    using (SqlDataReader reader = command.ExecuteReader())\n",
      "                    {\n",
      "                        while (reader.Read())\n",
      "                        {\n",
      "                            Console.WriteLine(reader[0].ToString()); // Adjust the index to match the column you're interested in\n",
      "                        }\n",
      "                    }\n",
      "                }\n",
      "                catch (Exception ex)\n",
      "                {\n",
      "                    Console.WriteLine(ex.Message);\n",
      "                }\n",
      "            }\n",
      "        }\n",
      "    }\n",
      "}\n",
      "</file>\n"
     ]
    }
   ],
   "source": [
    "import re\n",
    "from IPython.display import display, Markdown\n",
    "\n",
    "# Your input string\n",
    "input_string = response['answer']\n",
    "\n",
    "\n",
    "\n",
    "code_match = re.search(r'<NewCode>\\n(.*?)\\n</NewCode>', input_string, re.DOTALL)\n",
    "description_match = re.search(r'<description>\\n(.*?)\\n</description>', input_string, re.DOTALL)\n",
    "\n",
    "# Extracted code and description\n",
    "code = code_match.group(1) if code_match else None\n",
    "description = description_match.group(1) if description_match else None\n",
    "\n",
    "display(Markdown(description))\n",
    "\n",
    "print(code)"
   ]
  },
  {
   "cell_type": "code",
   "execution_count": 176,
   "metadata": {},
   "outputs": [
    {
     "name": "stdout",
     "output_type": "stream",
     "text": [
      "File saved: Startup.cs\n",
      "File saved: CustomWebControlPage.cshtml\n",
      "File saved: CustomWebControlPage.cshtml.cs\n",
      "File saved: DBManagerService.cs\n"
     ]
    }
   ],
   "source": [
    "pattern = re.compile(r'<file name=\"(.+?)\">(.*?)</file>', re.DOTALL)\n",
    "\n",
    "# Finding all matches\n",
    "matches = pattern.findall(code)\n",
    "\n",
    "# Loop through matches and write to files\n",
    "for file_name, file_content in matches:\n",
    "    # Strip leading and trailing whitespaces from the content\n",
    "    file_content = file_content.strip()\n",
    "    # Open the file in write mode and write the content\n",
    "    with open(\"./DotNet/\"+file_name, 'w') as file:\n",
    "        file.write(file_content)\n",
    "    print(f\"File saved: {file_name}\")"
   ]
  }
 ],
 "metadata": {
  "kernelspec": {
   "display_name": "myenv",
   "language": "python",
   "name": "python3"
  },
  "language_info": {
   "codemirror_mode": {
    "name": "ipython",
    "version": 3
   },
   "file_extension": ".py",
   "mimetype": "text/x-python",
   "name": "python",
   "nbconvert_exporter": "python",
   "pygments_lexer": "ipython3",
   "version": "3.11.9"
  }
 },
 "nbformat": 4,
 "nbformat_minor": 2
}
