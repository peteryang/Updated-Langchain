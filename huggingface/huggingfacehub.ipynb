{
 "cells": [
  {
   "cell_type": "code",
   "execution_count": null,
   "metadata": {},
   "outputs": [],
   "source": [
    "from dotenv import load_dotenv\n",
    "from langchain_community.llms.huggingface_hub import HuggingFaceHub\n",
    "from langchain.chains.llm import LLMChain\n",
    "from langchain.prompts import PromptTemplate\n",
    "\n",
    "load_dotenv()\n",
    "\n",
    "\n"
   ]
  },
  {
   "cell_type": "code",
   "execution_count": null,
   "metadata": {},
   "outputs": [],
   "source": [
    "# second example below:\n",
    "hub_llm = HuggingFaceHub(\n",
    "    # repo_id='gpt2',\n",
    "    # repo_id=\"meta-llama/Meta-Llama-3-8B\",\n",
    "    # repo_id=\"microsoft/Phi-3-mini-128k-instruct\",\n",
    "    repo_id=\"openai-community/gpt2\",\n",
    "    model_kwargs={'temperature': 0.7, 'max_length': 100}\n",
    ")\n",
    "\n",
    "prompt = PromptTemplate(\n",
    "    input_variables=[\"profession\"],\n",
    "    template=\"You had one job 😡! You're the {profession} and you didn't have to be sarcastic\"\n",
    ")"
   ]
  },
  {
   "cell_type": "code",
   "execution_count": 4,
   "metadata": {},
   "outputs": [
    {
     "name": "stdout",
     "output_type": "stream",
     "text": [
      "\n",
      "\n",
      "\u001b[1m> Entering new LLMChain chain...\u001b[0m\n",
      "Prompt after formatting:\n",
      "\u001b[32;1m\u001b[1;3mYou had one job 😡! You're the customer service agent and you didn't have to be sarcastic\u001b[0m\n",
      "\n",
      "\u001b[1m> Finished chain.\u001b[0m\n",
      "You had one job 😡! You're the customer service agent and you didn't have to be sarcastic 😡😡😡😡😡😡😡😡😡😡😡😡😡😡😡😡😡😡😡😡😡😡😡😡😡😡😡😡😡😡😡😡😡😡😡😡😡😡😡�\n"
     ]
    }
   ],
   "source": [
    "hub_chain = LLMChain(prompt=prompt, llm=hub_llm, verbose=True)\n",
    "print(hub_chain.run(\"customer service agent\"))\n",
    "# print(hub_chain.run(\"politician\"))\n",
    "# print(hub_chain.run(\"Fintech CEO\"))\n",
    "# print(hub_chain.run(\"insurance agent\"))"
   ]
  },
  {
   "cell_type": "code",
   "execution_count": null,
   "metadata": {},
   "outputs": [],
   "source": []
  }
 ],
 "metadata": {
  "kernelspec": {
   "display_name": "Python 3",
   "language": "python",
   "name": "python3"
  },
  "language_info": {
   "codemirror_mode": {
    "name": "ipython",
    "version": 3
   },
   "file_extension": ".py",
   "mimetype": "text/x-python",
   "name": "python",
   "nbconvert_exporter": "python",
   "pygments_lexer": "ipython3",
   "version": "3.11.9"
  }
 },
 "nbformat": 4,
 "nbformat_minor": 2
}
